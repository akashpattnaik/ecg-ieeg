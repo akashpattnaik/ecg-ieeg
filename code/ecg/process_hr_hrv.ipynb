{
 "cells": [
  {
   "attachments": {},
   "cell_type": "markdown",
   "metadata": {},
   "source": [
    "## About\n",
    "\n",
    "Notebook to fetch ECG, calculate HR abd HRV values"
   ]
  },
  {
   "cell_type": "code",
   "execution_count": 1,
   "metadata": {},
   "outputs": [],
   "source": [
    "root_folder = \"./../\"\n",
    "sys.path.insert(1, root_folder)\n",
    "sys.path.insert(1, os.path.join(root_folder, 'tools/'))\n",
    "\n",
    "#%%\n",
    "import sys\n",
    "import getopt\n",
    "\n",
    "#Imports\n",
    "import numpy as np\n",
    "import multiprocessing # todo\n",
    "from os.path import join as ospj\n",
    "import sys\n",
    "import pandas as pd\n",
    "import seaborn as sns\n",
    "from ieeg.auth import Session\n",
    "import matplotlib.pyplot as plt\n",
    "import matplotlib.dates as mdates\n",
    "from tqdm import tqdm\n",
    "from tools import get_iEEG_data\n",
    "from numpy.lib.stride_tricks import sliding_window_view\n",
    "from scipy.signal import iirnotch, filtfilt, butter, lfilter, medfilt\n",
    "\n",
    "import warnings\n",
    "warnings.filterwarnings(\"ignore\")\n",
    "\n",
    "import biosppy\n",
    "from biosppy.signals import ecg\n",
    "import pyhrv\n",
    "import pyhrv.tools as tools\n",
    "from pyhrv.hrv import hrv\n",
    "import neurokit2 as nk\n",
    "import heartpy as hp\n",
    "import pyhrv.time_domain as td \n",
    "import pyhrv.frequency_domain as fd\n",
    "\n",
    "from datetime import datetime, date, timedelta\n",
    "import importlib\n",
    "\n",
    "from scipy import signal\n",
    "from scipy.signal import butter, lfilter, freqz, filtfilt, find_peaks, medfilt, ellip\n",
    "from scipy.signal import savgol_filter, hilbert\n",
    "import sys\n",
    "import os\n",
    "import json\n",
    "\n",
    "\n",
    "\n",
    "from helpers import *\n",
    "\n",
    "\n",
    "    "
   ]
  },
  {
   "cell_type": "code",
   "execution_count": 2,
   "metadata": {},
   "outputs": [],
   "source": [
    "def remove_std(signal, std_mul=1.5):\n",
    "    std_rem = signal.copy()\n",
    "    mean = np.mean(std_rem)\n",
    "    std = np.std(std_rem)\n",
    "    std_rem[(std_rem<(mean+std_mul*std)) & (std_rem>(mean-std_mul*std))]=mean\n",
    "    return std_rem"
   ]
  },
  {
   "cell_type": "code",
   "execution_count": 3,
   "metadata": {},
   "outputs": [],
   "source": [
    "username = 'jalpanchal'\n",
    "pwd_bin_path = \"/users/jalp/tools/jal_ieeglogin.bin\"\n",
    "with open(pwd_bin_path, \"r\") as f:\n",
    "    s = Session(username, f.read())   \n",
    "    \n",
    "#import login credentials\n",
    "from cryptography.fernet import Fernet\n",
    "import os\n",
    " \n",
    "cred_filename = '/users/jalp/ieeg_credentials/CredFile.ini'\n",
    "key_file = '/users/jalp/ieeg_credentials/key.key'\n",
    " \n",
    "key = ''\n",
    " \n",
    "with open(key_file,'r') as key_in:\n",
    "    key = key_in.read().encode()\n",
    "  \n",
    "f = Fernet(key)\n",
    "with open(cred_filename,'r') as cred_in:\n",
    "    lines = cred_in.readlines()\n",
    "    config = {}\n",
    "    for line in lines:\n",
    "        tuples = line.rstrip('\\n').split('=',1)\n",
    "        if tuples[0] in ('Username','Password'):\n",
    "            config[tuples[0]] = tuples[1]\n",
    " \n",
    "    password = f.decrypt(config['Password'].encode()).decode()\n",
    "    user = config['Username']"
   ]
  },
  {
   "attachments": {},
   "cell_type": "markdown",
   "metadata": {},
   "source": [
    "### Load subject data and seizure timestamps"
   ]
  },
  {
   "cell_type": "code",
   "execution_count": 30,
   "metadata": {},
   "outputs": [
    {
     "name": "stdout",
     "output_type": "stream",
     "text": [
      "    Unnamed: 0 subject           portal_ID     ecg_channel  ecg_multiplier\n",
      "0            0  HUP064       HUP64_phaseII    EEG EKG2-Ref               1\n",
      "1            1  HUP065       HUP65_phaseII  EEG EKG 01-Ref               1\n",
      "2            2  HUP068       HUP68_phaseII  EEG EKG 02-Ref               1\n",
      "3            3  HUP070       HUP70_phaseII    EEG EKG2-Ref               1\n",
      "4            4  HUP073       HUP73_phaseII  EEG EKG 01-Ref              -1\n",
      "5            5  HUP074       HUP74_phaseII  EEG EKG 02-Ref               1\n",
      "6            6  HUP075       HUP75_phaseII    EEG EKG2-Ref               1\n",
      "7            7  HUP078       HUP78_phaseII  EEG EKG 02-Ref               1\n",
      "8            8  HUP080       HUP80_phaseII  EEG EKG 01-Ref              -1\n",
      "9            9  HUP083       HUP83_phaseII  EEG EKG 02-Ref               1\n",
      "10          10  HUP086       HUP86_phaseII  EEG EKG 01-Ref              -1\n",
      "11          11  HUP087       HUP87_phaseII  EEG EKG 02-Ref               1\n",
      "12          12  HUP088       HUP88_phaseII     EEG EKG-Ref               1\n",
      "13          13  HUP089       HUP89_phaseII  EEG EKG 01-Ref               1\n",
      "14          14  HUP094      HUP094_phaseII            EKG2              -1\n",
      "15          15  HUP105      HUP105_phaseII             EKG               1\n",
      "16          16  HUP106      HUP106_phaseII            ECG1               1\n",
      "17          17  HUP107      HUP107_phaseII            ECG2              -1\n",
      "18          18  HUP111  HUP111_phaseII_D02            EKG2               1\n",
      "19          19  HUP112      HUP112_phaseII            EKG2              -1\n",
      "20          20  HUP114      HUP114_phaseII            EKG2              -1\n",
      "21          21  HUP116      HUP116_phaseII            EKG2              -1\n",
      "22          22  HUP123  HUP123_phaseII_D02            EKG1              -1\n",
      "23          23  HUP125  HUP125_phaseII_D05            EKG1               1\n",
      "24          24  HUP126  HUP126_phaseII_D01            EKG1               1\n",
      "25          25  HUP130      HUP130_phaseII             LE7               1\n",
      "26          26  HUP132  HUP132_phaseII_D03             LM8               1\n",
      "27          27  HUP133      HUP133_phaseII            EKG1              -1\n",
      "28          28  HUP134  HUP134_phaseII_D02            EKG2               1\n",
      "29          29  HUP135      HUP135_phaseII            EKG1               1\n",
      "30          30  HUP138      HUP138_phaseII            EKG2               1\n",
      "31          31  HUP139      HUP139_phaseII            EKG1               1\n",
      "32          32  HUP140  HUP140_phaseII_D02            EKG2               1\n",
      "33          33  HUP142      HUP142_phaseII            EKG1               1\n",
      "34          34  HUP144      HUP144_phaseII            EKG1              -1\n",
      "35          35  HUP146      HUP146_phaseII            EKG2              -1\n",
      "36          36  HUP148  HUP148_phaseII_D02            EKG1               1\n",
      "37          37  HUP150      HUP150_phaseII            EKG1              -1\n",
      "38          38  HUP151      HUP151_phaseII            EKG2              -1\n",
      "39          39  HUP157      HUP157_phaseII            EKG1               1\n",
      "40          40  HUP158      HUP158_phaseII            EKG2              -1\n",
      "41          41  HUP162      HUP162_phaseII            ECG1              -1\n",
      "42          42  HUP163      HUP163_phaseII            EKG2              -1\n",
      "43          43  HUP164      HUP164_phaseII            EKG2               1\n",
      "44          44  HUP166      HUP166_phaseII            EKG2               1\n",
      "45          45  HUP171      HUP171_phaseII            EKG2               1\n",
      "46          46  HUP172      HUP172_phaseII            EKG2              -1\n",
      "47          47  HUP177      HUP177_phaseII            EKG2               1\n",
      "48          48  HUP181  HUP181_phaseII_D02            EKG1               1\n",
      "49          49  HUP185      HUP185_phaseII            EKG2               1\n",
      "50          50  HUP187      HUP187_phaseII            EKG1               1\n",
      "51          51  HUP188      HUP188_phaseII            EKG2               1\n",
      "52          52  HUP190      HUP190_phaseII            EKG2              -1\n",
      "53          53  HUP191      HUP191_phaseII            EKG2              -1\n"
     ]
    }
   ],
   "source": [
    "subject_data = pd.read_csv(\"./../../data/subject_data.csv\")\n",
    "print(subject_data)"
   ]
  },
  {
   "cell_type": "code",
   "execution_count": 31,
   "metadata": {},
   "outputs": [
    {
     "name": "stdout",
     "output_type": "stream",
     "text": [
      "     Unnamed: 0 Patient  Seizure number Seizure type Seizure category  \\\n",
      "0             3  HUP064               0        FBTCS            FBTCS   \n",
      "1             4  HUP065               0        FBTCS            FBTCS   \n",
      "2             5  HUP065               1        FBTCS            FBTCS   \n",
      "3             6  HUP065               2        FBTCS            FBTCS   \n",
      "4             7  HUP068               0        FBTCS            FBTCS   \n",
      "..          ...     ...             ...          ...              ...   \n",
      "251         317  HUP191              10  Subclinical            Other   \n",
      "252         318  HUP191              11  Subclinical            Other   \n",
      "253         319  HUP191              12  Subclinical            Other   \n",
      "254         320  HUP191              13  Subclinical            Other   \n",
      "255         321  HUP191              14         FIAS            Focal   \n",
      "\n",
      "     Seizure EEC  Seizure UEO  Seizure end   iEEG Filename  Seizure duration  \\\n",
      "0       632657.0    632666.73     632764.0   HUP64_phaseII             97.27   \n",
      "1       223606.0    223606.00     223685.0   HUP65_phaseII             79.00   \n",
      "2       228925.0    228925.00     229019.0   HUP65_phaseII             94.00   \n",
      "3       249851.0    249851.00     249941.0   HUP65_phaseII             90.00   \n",
      "4       819104.0    819104.00     819193.0   HUP68_phaseII             89.00   \n",
      "..           ...          ...          ...             ...               ...   \n",
      "251     371639.0    371639.00     371678.0  HUP191_phaseII             39.00   \n",
      "252     374353.0    374353.00     374371.0  HUP191_phaseII             18.00   \n",
      "253     390315.0    390315.00     390360.0  HUP191_phaseII             45.00   \n",
      "254     404705.0    404705.00     404730.0  HUP191_phaseII             25.00   \n",
      "255     657662.0    657662.00     657690.0  HUP191_phaseII             28.00   \n",
      "\n",
      "     Number of Regions  Total Volume (cm^3)  NHS3  Log duration  \\\n",
      "0                   14              111.936     8      1.987979   \n",
      "1                   10               67.420    12      1.897627   \n",
      "2                   10               67.420    12      1.973128   \n",
      "3                   10               67.420    12      1.954243   \n",
      "4                   20              155.923     8      1.949390   \n",
      "..                 ...                  ...   ...           ...   \n",
      "251                  2                7.328     1      1.591065   \n",
      "252                  2                7.328     1      1.255273   \n",
      "253                  2                7.328     1      1.653213   \n",
      "254                  2                7.328     1      1.397940   \n",
      "255                  2                7.328     8      1.447158   \n",
      "\n",
      "     Seizure severity  Seizure severity (NMF)  \n",
      "0            0.860356                0.971642  \n",
      "1            0.995387                0.849017  \n",
      "2            1.014661                0.849412  \n",
      "3            1.009765                0.849313  \n",
      "4            0.932145                1.300232  \n",
      "..                ...                     ...  \n",
      "251          0.412488                0.142166  \n",
      "252          0.262139                0.140413  \n",
      "253          0.440471                0.142491  \n",
      "254          0.325782                0.141158  \n",
      "255          0.609088                0.311236  \n",
      "\n",
      "[256 rows x 16 columns]\n"
     ]
    }
   ],
   "source": [
    "sz_data = pd.read_excel(\"/users/jalp/git/ecg-ieeg/data/seizure_metadata_with_severity.xlsx\")\n",
    "print(sz_data)"
   ]
  },
  {
   "attachments": {},
   "cell_type": "markdown",
   "metadata": {},
   "source": [
    "### Calculate data segments\n",
    "1 min segments, can change to 5 mins\n",
    "- Segments used from\n",
    "/users/pattnaik/ecg-ieeg/data/sub-RID0031/all_clip_times.xlsx for each subject has the start and end timiing of each segment\\"
   ]
  },
  {
   "cell_type": "code",
   "execution_count": 32,
   "metadata": {},
   "outputs": [],
   "source": [
    "def calc_hrv_param(data, win_s, overlap_s):\n",
    "    df = data.copy()\n",
    "\n",
    "    start =df.index[0]\n",
    "    stop = df.index[-1]\n",
    "\n",
    "    hrv_windows = calc_windows(start, stop, win_s, overlap_s)\n",
    "\n",
    "    hrv_df = pd.DataFrame()\n",
    "    for i in range(len(hrv_windows)):\n",
    "        data = df[(df.index >=hrv_windows[i][0]) & (df.index <hrv_windows[i][1])]['heartRate']\n",
    "        \n",
    "        if len(data.dropna())>=2:\n",
    "\n",
    "            nni_ms = 60000/data.values\n",
    "\n",
    "            #dropping large nni values > 3000 ms\n",
    "            nni_ms = nni_ms[nni_ms < 3000]\n",
    "\n",
    "\n",
    "\n",
    "            # print(len(nni_ms))\n",
    "            # td_results = td.time_domain(nni=nni_ms, rpeaks =rpeaks_ms, sampling_rate=fs,plot=False)\n",
    "            parameters = ['rmssd', 'hf']\n",
    "\n",
    "            # hrv_params = np.ones([len(data), len(parameters)])*np.nan\n",
    "            # hrv_params[-1,0] =  int(td.rmssd(nni=nni_ms)[0])\n",
    "            rmssd = int(td.rmssd(nni=nni_ms)[0])\n",
    "            \n",
    "            #frequency based parameter \n",
    "            # try:\n",
    "            #     freq = fd.welch_psd(nni=nni_ms, show=False, mode='dev')[0]['fft_abs']\n",
    "            #     hrv_params[-1,1] =  int(freq[2])\n",
    "            # except : \n",
    "            #     hrv_params[-1,1] =  0\n",
    "            \n",
    "            hrv_df = hrv_df.append(pd.DataFrame(data={'rmssd' : rmssd, 'hrMean' : round(np.mean(data.values),1) }, index=[data.index[-1]]))\n",
    "\n",
    "        else:\n",
    "            continue\n",
    "    return hrv_df    \n",
    "\n",
    "def get_hr_hrv(subject_name, start_flag=0, end_flag=0 ):\n",
    "\n",
    "    sub_data = subject_data[subject_data['subject']==subject_name]\n",
    "\n",
    "    portal_name = sub_data['portal_ID'].iloc[0]\n",
    "    # print(\"portal_name\", portal_name)\n",
    "    ecg_channels = [sub_data['ecg_channel'].iloc[0]]\n",
    "    ecg_multiplier = sub_data['ecg_multiplier'].iloc[0]\n",
    "\n",
    "\n",
    "    #Configuring getting  ieeg data\n",
    "    # print(\"Getting data for %s\" %(subject_name))\n",
    "    # print(\"Getting data for %s from IEEG\" %(portal_name))\n",
    "\n",
    "    with open(pwd_bin_path, \"r\") as f:\n",
    "        s = Session(username, f.read())\n",
    "    ds = s.open_dataset(portal_name)\n",
    "\n",
    "    if start_flag!=0:\n",
    "        start_time_sec = int(start_flag)\n",
    "    else:\n",
    "        start_time_sec = 0\n",
    "\n",
    "    if end_flag!=0:\n",
    "        end_time_sec = int(end_flag)\n",
    "    else:\n",
    "        end_time_sec = (ds.end_time-ds.start_time)/1e6\n",
    "    \n",
    "\n",
    "    # print(\"time stamps retrived from IEEG\")\n",
    "    # print(\"Getting data for %s from %d to %d\" %(subject_name, start_time_sec, end_time_sec))\n",
    "\n",
    "    data_pull_min=1\n",
    "\n",
    "    clip_duration_sec =  end_time_sec - start_time_sec\n",
    "    clip_duration_min = clip_duration_sec / 60\n",
    "\n",
    "    # how many data_pull_min minute data pulls are there?\n",
    "    n_iter = int(np.ceil(clip_duration_min / data_pull_min))\n",
    "\n",
    "\n",
    "# %%\n",
    "    \n",
    "    hr_win = pd.DataFrame()\n",
    "    for i in range(n_iter):\n",
    "\n",
    "        start_usec = start_time_sec * 1e6 + i * (data_pull_min * 60 * 1e6)\n",
    "        if i == n_iter - 1:\n",
    "            end_usec = end_time_sec * 1e6\n",
    "        else:\n",
    "            end_usec = start_usec + (data_pull_min * 60 * 1e6)\n",
    "\n",
    "        data, fs = get_iEEG_data(username, pwd_bin_path,portal_name , start_usec, end_usec, select_electrodes=ecg_channels)\n",
    "\n",
    "        time = np.linspace(start_usec, end_usec, len(data), endpoint=False)\n",
    "        data.index = pd.to_datetime(time, unit='us')\n",
    "\n",
    "\n",
    "        # format resulting data into pandas DataFrame\n",
    "        signal_filt = pd.DataFrame(columns=ecg_channels, index=data.index)\n",
    "\n",
    "\n",
    "        hr_df = pd.DataFrame()\n",
    "        for n,c in enumerate(ecg_channels):\n",
    "            #remove baseline wander\n",
    "            temp_ = hp.remove_baseline_wander(data.iloc[:,n]*ecg_multiplier, fs)\n",
    "\n",
    "\n",
    "            #bandpas filter\n",
    "            order = int(0.3 * fs)\n",
    "            signal_filt[c], _, _ = biosppy.tools.filter_signal(signal=temp_,ftype='FIR',band='bandpass',order=order,frequency=[3,25],sampling_rate=fs)\n",
    "\n",
    "\n",
    "            # work on 5s samples\n",
    "            temp_std= pd.DataFrame()\n",
    "            for i in range(int(len(signal_filt)/int(5*fs))):\n",
    "\n",
    "                win_data = signal_filt[i*5*int(fs):(i+1)*5*int(fs)][c]\n",
    "\n",
    "                #remove noise data < 1.5 std\n",
    "\n",
    "                std_rem = remove_std(win_data, 1.5)\n",
    "                temp_std = temp_std.append(pd.DataFrame(std_rem))\n",
    "\n",
    "            try :\n",
    "            \n",
    "                out = ecg.ecg(signal=temp_std[c], sampling_rate=fs, show=False)\n",
    "                # ecg_filtered = out[1]\n",
    "                # rpeaks = out[2]\n",
    "                heart_rate_ts = out[-2]\n",
    "                heart_rate = out[-1]\n",
    "                idx = (heart_rate_ts*fs).astype(int)\n",
    "\n",
    "                temp_ = pd.DataFrame(data={c : heart_rate}, index=temp_std.index[idx])\n",
    "                hr_df = hr_df.append(temp_)\n",
    "\n",
    "                                \n",
    "                #shift time to real time\n",
    "                # hr_df.index = pd.to_datetime(hr_df.index).tz_localize(tz=tz)+ delta\n",
    "\n",
    "                # resample to 1Hz\n",
    "                hr_rs = hr_df.resample(\"1s\").mean()   \n",
    "\n",
    "                #take the min in each 1s window\n",
    "                hr_min = hr_rs.min(axis=1)\n",
    "\n",
    "                hr_win = hr_win.append(pd.DataFrame(hr_min.dropna()))\n",
    "            except:\n",
    "                    continue  \n",
    "    # %%\n",
    "    #smoothen\n",
    "    hr_sm = pd.DataFrame({'heartRate' : savgol_filter(hr_win[0], 11,3)}, index=hr_win.index)\n",
    "    hr_sm['heartRate'] = hr_sm['heartRate'].apply(lambda x : round(x,1))\n",
    "\n",
    "\n",
    "    # %%\n",
    "    #calc hrv parameters\n",
    "\n",
    "    # hrv_df = calc_hrv_param(hr_sm, 60,50) #60s window 50s overlap\n",
    "    hrv_df = calc_hrv_param(hr_sm, 60,0) #60s window 0s overlap\n",
    "\n",
    "    #combine df and add timestamp column\n",
    "    combine_df = hr_sm.join(hrv_df)\n",
    "    combine_df['timestamp'] = (combine_df.index.astype(int)/10e8).astype(int)\n",
    "    combine_df = combine_df[['timestamp', 'heartRate', 'rmssd', 'hrMean']]\n",
    "\n",
    "    return combine_df\n",
    "\n"
   ]
  },
  {
   "attachments": {},
   "cell_type": "markdown",
   "metadata": {},
   "source": [
    "### Calculating HR, HRV for each Seizure segment"
   ]
  },
  {
   "cell_type": "code",
   "execution_count": 33,
   "metadata": {},
   "outputs": [],
   "source": [
    "for sub in subject_data['subject'].values[0:1]:\n",
    "\n",
    "    sz_times = sz_data[sz_data['Patient']==sub]\n",
    "    # print(sz_times)\n",
    "\n",
    "    for sz in range(len(sz_times)):\n",
    "        sz_num = sz_times['Seizure number'].iloc[sz]\n",
    "        sz_eec  = sz_times['Seizure EEC'].iloc[sz]\n",
    "        # print(sz_eec)\n",
    "\n",
    "        \n",
    "        start_time = int(sz_eec-60*60) #1 hour before eec\n",
    "        end_time = int(sz_eec)\n",
    "\n",
    "        file_name = \"./../../data/\"+sub+\"_sz_\"+str(sz_num)+\"_ecg_hr_hrv\"\n",
    "\n",
    "        # print(file_name)\n",
    "        # print(start_time, end_time)\n",
    "\n",
    "        hrv = get_hr_hrv(sub, start_flag=start_time, end_flag=end_time)\n",
    "        hrv_np = hrv.to_numpy()\n",
    "        np.save(file_name, hrv_np)\n",
    "\n"
   ]
  },
  {
   "attachments": {},
   "cell_type": "markdown",
   "metadata": {},
   "source": [
    "#### Cleaning with sz segment files"
   ]
  },
  {
   "cell_type": "code",
   "execution_count": 34,
   "metadata": {},
   "outputs": [],
   "source": [
    "files  = [file for file in os.listdir(\"/users/jalp/git/ecg-ieeg/data\") if \"sz\" in file]\n",
    "files.sort()"
   ]
  },
  {
   "cell_type": "code",
   "execution_count": 35,
   "metadata": {},
   "outputs": [],
   "source": [
    "for file in files[0:1]:\n",
    "    file_path = \"/users/jalp/git/ecg-ieeg/data/\"+file\n",
    "    df = pd.DataFrame(np.load(file_path))\n",
    "    df = df.dropna()\n",
    "    df = df.drop(columns=[1])\n",
    "    npy = df.to_numpy()\n",
    "    np.save(file_path, npy)"
   ]
  },
  {
   "attachments": {},
   "cell_type": "markdown",
   "metadata": {},
   "source": [
    "#### Calculating Z-score for Sz segments"
   ]
  },
  {
   "cell_type": "code",
   "execution_count": 40,
   "metadata": {},
   "outputs": [
    {
     "name": "stderr",
     "output_type": "stream",
     "text": [
      "100%|██████████| 54/54 [00:08<00:00,  6.73it/s]\n"
     ]
    }
   ],
   "source": [
    "for sub in tqdm(subject_data['subject']):\n",
    "    files  = [file for file in os.listdir(\"/users/jalp/git/ecg-ieeg/data\") if sub in file]\n",
    "    files.sort()\n",
    "    sz_files  = [file for file in files if \"sz\" in file]\n",
    "    inter_files  = [file for file in files if \"inter\" in file]\n",
    "\n",
    "    if len(inter_files)==1:\n",
    "        inter_data  = np.load(\"/users/jalp/git/ecg-ieeg/data/\"+inter_files[0])\n",
    "        rmssd_mean = np.mean(inter_data[:,1])\n",
    "        rmssd_std = np.std(inter_data[:,1])\n",
    "\n",
    "        hr_mean = np.mean(inter_data[:,2])\n",
    "        hr_std = np.std(inter_data[:,2])\n",
    "\n",
    "        for file in sz_files:\n",
    "            # print(sz_files)\n",
    "            seg_data = np.load(\"/users/jalp/git/ecg-ieeg/data/\"+file)\n",
    "            # print(seg_data) \n",
    "\n",
    "            #calculate z score\n",
    "            seg_data[:,1] = np.round((seg_data[:,1]-rmssd_mean)/rmssd_std,3)\n",
    "            seg_data[:,2] = np.round((seg_data[:,2]-hr_mean)/hr_std, 3)\n",
    "\n",
    "            zscore_file = \"/users/jalp/git/ecg-ieeg/data/\"+file.replace(\"sz\", \"zscore\")\n",
    "            np.save(zscore_file, seg_data)\n",
    "    else:\n",
    "        continue\n",
    "\n",
    "    "
   ]
  },
  {
   "attachments": {},
   "cell_type": "markdown",
   "metadata": {},
   "source": [
    "### Computing inter-ictal segments"
   ]
  },
  {
   "cell_type": "code",
   "execution_count": 24,
   "metadata": {},
   "outputs": [
    {
     "name": "stderr",
     "output_type": "stream",
     "text": [
      "  0%|          | 0/30 [00:00<?, ?it/s]"
     ]
    },
    {
     "name": "stdout",
     "output_type": "stream",
     "text": [
      "HUP126: 281985.81538935564-282045.81538935564\n",
      "HUP126: 296609.2561089236-296669.2561089236\n",
      "HUP126: 296611.20709867275-296671.20709867275\n",
      "HUP126: 317222.8386205491-317282.8386205491\n",
      "HUP126: 265639.80910272576-265699.80910272576\n",
      "HUP126: 295980.69943864254-296040.69943864254\n",
      "HUP126: 306609.09956547874-306669.09956547874\n",
      "HUP126: 263355.79001996183-263415.79001996183\n",
      "HUP126: 299329.10449233395-299389.10449233395\n",
      "HUP126: 319299.70232460165-319359.70232460165\n",
      "HUP126: 270532.81012152525-270592.81012152525\n",
      "HUP126: 265028.05906045216-265088.05906045216\n",
      "HUP126: 293316.27153264923-293376.27153264923\n",
      "HUP126: 294092.96164520393-294152.96164520393\n",
      "HUP126: 303573.0805577713-303633.0805577713\n",
      "HUP126: 304738.6026296264-304798.6026296264\n",
      "HUP126: 278500.00312465546-278560.00312465546\n",
      "HUP126: 267503.34941259463-267563.34941259463\n",
      "HUP126: 268146.11159385584-268206.11159385584\n",
      "HUP126: 317309.0803203648-317369.0803203648\n"
     ]
    },
    {
     "name": "stderr",
     "output_type": "stream",
     "text": [
      "  3%|▎         | 1/30 [00:28<13:43, 28.40s/it]"
     ]
    },
    {
     "name": "stdout",
     "output_type": "stream",
     "text": [
      "HUP130: 341120.50012872193-341180.50012872193\n",
      "HUP130: 342400.2095082447-342460.2095082447\n",
      "HUP130: 275588.64796028956-275648.64796028956\n",
      "HUP130: 338056.4545282986-338116.4545282986\n",
      "HUP130: 265746.80678957154-265806.80678957154\n",
      "HUP130: 342034.65853592457-342094.65853592457\n",
      "HUP130: 341523.66385068523-341583.66385068523\n",
      "HUP130: 273559.59829738963-273619.59829738963\n",
      "HUP130: 337691.6932060065-337751.6932060065\n",
      "HUP130: 342174.9928768973-342234.9928768973\n",
      "HUP130: 272303.6444227395-272363.6444227395\n",
      "HUP130: 276290.2530040148-276350.2530040148\n",
      "HUP130: 339015.7420497412-339075.7420497412\n",
      "HUP130: 275151.47206948063-275211.47206948063\n",
      "HUP130: 281050.3735543628-281110.3735543628\n",
      "HUP130: 262758.39088351646-262818.39088351646\n",
      "HUP130: 261863.16368866336-261923.16368866336\n",
      "HUP130: 337769.084796683-337829.084796683\n",
      "HUP130: 261622.06990249085-261682.06990249085\n",
      "HUP130: 343928.21778689814-343988.21778689814\n"
     ]
    },
    {
     "name": "stderr",
     "output_type": "stream",
     "text": [
      "  7%|▋         | 2/30 [00:52<11:56, 25.60s/it]"
     ]
    },
    {
     "name": "stdout",
     "output_type": "stream",
     "text": [
      "HUP132: 281733.82834219583-281793.82834219583\n",
      "HUP132: 522249.54305807385-522309.54305807385\n",
      "HUP132: 495251.59778117866-495311.59778117866\n",
      "If mode is 'interp', window_length must be less than or equal to the size of x.\n",
      "HUP132: 526228.4797954091-526288.4797954091\n",
      "If mode is 'interp', window_length must be less than or equal to the size of x.\n",
      "HUP132: 280603.6479696546-280663.6479696546\n",
      "HUP132: 299939.26314946805-299999.26314946805\n",
      "If mode is 'interp', window_length must be less than or equal to the size of x.\n",
      "HUP132: 540972.962831453-541032.962831453\n",
      "If mode is 'interp', window_length must be less than or equal to the size of x.\n",
      "HUP132: 529074.8972536495-529134.8972536495\n",
      "HUP132: 330675.8877493432-330735.8877493432\n",
      "0\n",
      "HUP132: 336563.4489365533-336623.4489365533\n",
      "0\n",
      "HUP132: 349363.9959875968-349423.9959875968\n",
      "0\n",
      "HUP132: 502721.23390654835-502781.23390654835\n",
      "HUP132: 519110.24828492134-519170.24828492134\n",
      "If mode is 'interp', window_length must be less than or equal to the size of x.\n",
      "HUP132: 493013.9502765127-493073.9502765127\n",
      "If mode is 'interp', window_length must be less than or equal to the size of x.\n",
      "HUP132: 344025.7088369115-344085.7088369115\n",
      "0\n",
      "HUP132: 527321.2141837218-527381.2141837218\n",
      "HUP132: 346075.067383162-346135.067383162\n",
      "0\n",
      "HUP132: 371678.11242477736-371738.11242477736\n",
      "If mode is 'interp', window_length must be less than or equal to the size of x.\n",
      "HUP132: 285930.403544944-285990.403544944\n",
      "HUP132: 492411.3290512853-492471.3290512853\n"
     ]
    },
    {
     "name": "stderr",
     "output_type": "stream",
     "text": [
      " 10%|█         | 3/30 [01:16<11:13, 24.93s/it]"
     ]
    },
    {
     "name": "stdout",
     "output_type": "stream",
     "text": [
      "HUP133: 606736.9835239416-606796.9835239416\n",
      "HUP133: 652691.4299136256-652751.4299136256\n",
      "HUP133: 620308.6686829315-620368.6686829315\n",
      "HUP133: 654999.9317696403-655059.9317696403\n",
      "HUP133: 519704.6934043414-519764.6934043414\n",
      "HUP133: 512026.84331606416-512086.84331606416\n",
      "HUP133: 529946.8373756455-530006.8373756455\n",
      "HUP133: 523551.3289490718-523611.3289490718\n",
      "HUP133: 523039.4097679622-523099.4097679622\n",
      "HUP133: 607530.2581131574-607590.2581131574\n",
      "HUP133: 610475.8379081661-610535.8379081661\n",
      "HUP133: 507196.90650134214-507256.90650134214\n",
      "HUP133: 670662.2295589871-670722.2295589871\n",
      "HUP133: 524372.8863290582-524432.8863290582\n",
      "HUP133: 507479.2197216793-507539.2197216793\n",
      "HUP133: 521175.3757830807-521235.3757830807\n",
      "HUP133: 641882.7322976787-641942.7322976787\n",
      "HUP133: 508527.50253445806-508587.50253445806\n",
      "HUP133: 651252.9833625878-651312.9833625878\n",
      "HUP133: 646015.2166300378-646075.2166300378\n"
     ]
    },
    {
     "name": "stderr",
     "output_type": "stream",
     "text": [
      " 13%|█▎        | 4/30 [01:39<10:35, 24.46s/it]"
     ]
    },
    {
     "name": "stdout",
     "output_type": "stream",
     "text": [
      "HUP134: 344828.87605176854-344888.87605176854\n",
      "0\n",
      "HUP134: 260366.60508599126-260426.60508599126\n",
      "0\n",
      "HUP134: 48023.90286258783-48083.90286258783\n",
      "HUP134: 17178.92362560275-17238.92362560275\n",
      "HUP134: 61472.501076790686-61532.501076790686\n",
      "HUP134: 237601.67387919137-237661.67387919137\n",
      "0\n",
      "HUP134: 243873.1694121342-243933.1694121342\n",
      "0\n",
      "HUP134: 19769.562637857285-19829.562637857285\n",
      "HUP134: 41531.28895769819-41591.28895769819\n",
      "HUP134: 314684.93940239446-314744.93940239446\n",
      "0\n",
      "HUP134: 50620.15019470446-50680.15019470446\n",
      "HUP134: 17728.58078981957-17788.58078981957\n",
      "HUP134: 312272.1117840538-312332.1117840538\n",
      "0\n",
      "HUP134: 238932.30019714983-238992.30019714983\n",
      "0\n",
      "HUP134: 26582.696391737976-26642.696391737976\n",
      "HUP134: 318557.1841035717-318617.1841035717\n",
      "0\n",
      "HUP134: 296554.6000392576-296614.6000392576\n",
      "0\n",
      "HUP134: 44394.67277229971-44454.67277229971\n",
      "HUP134: 49020.59740300239-49080.59740300239\n",
      "HUP134: 303486.3642555103-303546.3642555103\n"
     ]
    },
    {
     "name": "stderr",
     "output_type": "stream",
     "text": [
      " 17%|█▋        | 5/30 [02:06<10:27, 25.09s/it]"
     ]
    },
    {
     "name": "stdout",
     "output_type": "stream",
     "text": [
      "0\n",
      "HUP135: 432646.3973590263-432706.3973590263\n",
      "HUP135: 416134.03536972846-416194.03536972846\n",
      "HUP135: 567948.9194135757-568008.9194135757\n",
      "HUP135: 545685.0585304548-545745.0585304548\n",
      "HUP135: 438809.1895465329-438869.1895465329\n",
      "HUP135: 434587.9430535089-434647.9430535089\n",
      "HUP135: 437048.7783841249-437108.7783841249\n",
      "HUP135: 543034.6425790954-543094.6425790954\n",
      "HUP135: 588350.2591756469-588410.2591756469\n",
      "HUP135: 552655.3999383511-552715.3999383511\n",
      "HUP135: 446167.73331655876-446227.73331655876\n",
      "HUP135: 437724.59696764423-437784.59696764423\n",
      "HUP135: 577247.4989101024-577307.4989101024\n",
      "HUP135: 417890.6437554266-417950.6437554266\n",
      "HUP135: 543596.9826461321-543656.9826461321\n",
      "HUP135: 422510.3564318503-422570.3564318503\n",
      "HUP135: 416506.73584222-416566.73584222\n",
      "HUP135: 575611.0377072431-575671.0377072431\n",
      "HUP135: 570878.3735371277-570938.3735371277\n",
      "HUP135: 574591.3452313514-574651.3452313514\n"
     ]
    },
    {
     "name": "stderr",
     "output_type": "stream",
     "text": [
      " 20%|██        | 6/30 [02:36<10:43, 26.81s/it]"
     ]
    },
    {
     "name": "stdout",
     "output_type": "stream",
     "text": [
      "HUP138: 539776.4897500077-539836.4897500077\n",
      "HUP138: 609032.0988519411-609092.0988519411\n",
      "HUP138: 523272.7284469709-523332.7284469709\n",
      "HUP138: 545936.0719641544-545996.0719641544\n",
      "HUP138: 541717.0241642513-541777.0241642513\n",
      "HUP138: 590751.5835127378-590811.5835127378\n",
      "HUP138: 583202.6708013191-583262.6708013191\n",
      "HUP138: 611245.6281719282-611305.6281719282\n",
      "HUP138: 544176.5777356235-544236.5777356235\n",
      "HUP138: 553290.7829374946-553350.7829374946\n",
      "HUP138: 582734.03969908-582794.03969908\n",
      "HUP138: 620498.2123040808-620558.2123040808\n",
      "HUP138: 544852.0443099263-544912.0443099263\n",
      "HUP138: 609881.8686566076-609941.8686566076\n",
      "HUP138: 525028.4218795195-525088.4218795195\n",
      "HUP138: 603496.5741490182-603556.5741490182\n",
      "HUP138: 529645.7283163408-529705.7283163408\n",
      "HUP138: 584942.7874328535-585002.7874328535\n",
      "HUP138: 605937.8608282922-605997.8608282922\n",
      "HUP138: 523645.2347933989-523705.2347933989\n"
     ]
    },
    {
     "name": "stderr",
     "output_type": "stream",
     "text": [
      " 23%|██▎       | 7/30 [03:03<10:16, 26.80s/it]"
     ]
    },
    {
     "name": "stdout",
     "output_type": "stream",
     "text": [
      "HUP139: 451592.16024130385-451652.16024130385\n",
      "HUP139: 310665.4323631402-310725.4323631402\n",
      "HUP139: 337291.64756450197-337351.64756450197\n",
      "HUP139: 570385.6266109855-570445.6266109855\n",
      "HUP139: 334490.2889378948-334550.2889378948\n",
      "HUP139: 311203.1831287914-311263.1831287914\n",
      "HUP139: 524595.5852479078-524655.5852479078\n",
      "HUP139: 341817.3677296336-341877.3677296336\n",
      "HUP139: 533435.3372304491-533495.3372304491\n",
      "HUP139: 421445.50010707905-421505.50010707905\n",
      "HUP139: 353999.54449419095-354059.54449419095\n",
      "HUP139: 343382.27180882066-343442.27180882066\n",
      "HUP139: 502489.41072144895-502549.41072144895\n",
      "HUP139: 428394.6736755361-428454.6736755361\n",
      "HUP139: 340842.2630878302-340902.2630878302\n",
      "HUP139: 512238.71404813346-512298.71404813346\n",
      "HUP139: 313199.9542488883-313259.9542488883\n",
      "HUP139: 527989.1496555156-528049.1496555156\n",
      "HUP139: 419574.01700645225-419634.01700645225\n",
      "HUP139: 319865.5053071624-319925.5053071624\n"
     ]
    },
    {
     "name": "stderr",
     "output_type": "stream",
     "text": [
      " 27%|██▋       | 8/30 [03:40<11:02, 30.11s/it]"
     ]
    },
    {
     "name": "stdout",
     "output_type": "stream",
     "text": [
      "HUP140: 175533.09850686137-175593.09850686137\n",
      "HUP140: 172718.78933340168-172778.78933340168\n",
      "0\n",
      "HUP140: 302003.8500804714-302063.8500804714\n",
      "HUP140: 171960.8672573183-172020.8672573183\n",
      "HUP140: 215867.34035809754-215927.34035809754\n",
      "HUP140: 281672.06932633027-281732.06932633027\n",
      "HUP140: 233037.26608275357-233097.26608275357\n",
      "HUP140: 271565.3897898313-271625.3897898313\n",
      "HUP140: 209488.65446413113-209548.65446413113\n",
      "HUP140: 307284.18974447803-307344.18974447803\n",
      "HUP140: 218072.96315648168-218132.96315648168\n",
      "HUP140: 270937.97435237345-270997.97435237345\n",
      "HUP140: 321497.6251352544-321557.6251352544\n",
      "HUP140: 214492.99859659548-214552.99859659548\n",
      "HUP140: 184927.72631405585-184987.72631405585\n",
      "HUP140: 306146.49595679296-306206.49595679296\n",
      "HUP140: 205540.33549974798-205600.33549974798\n",
      "HUP140: 273895.10293175816-273955.10293175816\n",
      "HUP140: 298735.39234789956-298795.39234789956\n",
      "HUP140: 309110.02624744194-309170.02624744194\n"
     ]
    },
    {
     "name": "stderr",
     "output_type": "stream",
     "text": [
      " 30%|███       | 9/30 [04:10<10:35, 30.24s/it]"
     ]
    },
    {
     "name": "stdout",
     "output_type": "stream",
     "text": [
      "HUP142: 691850.1593228648-691910.1593228648\n",
      "HUP142: 738840.9736515916-738900.9736515916\n",
      "HUP142: 735131.8232965822-735191.8232965822\n",
      "HUP142: 754345.2750442326-754405.2750442326\n",
      "HUP142: 736555.7592454737-736615.7592454737\n",
      "HUP142: 574764.643759334-574824.643759334\n",
      "HUP142: 508336.81519499444-508396.81519499444\n",
      "HUP142: 521782.3333249335-521842.3333249335\n",
      "HUP142: 511436.1714350148-511496.1714350148\n",
      "HUP142: 558284.6826770622-558344.6826770622\n",
      "HUP142: 555855.6635601257-555915.6635601257\n",
      "HUP142: 729946.8935284201-730006.8935284201\n",
      "HUP142: 548830.9130049864-548890.9130049864\n",
      "HUP142: 725856.0964148035-725916.0964148035\n",
      "HUP142: 544482.688888299-544542.688888299\n",
      "HUP142: 554342.1217095708-554402.1217095708\n",
      "HUP142: 507502.12704555044-507562.12704555044\n",
      "HUP142: 694766.0250235511-694826.0250235511\n",
      "HUP142: 704499.6652547113-704559.6652547113\n",
      "HUP142: 691064.8870413807-691124.8870413807\n"
     ]
    },
    {
     "name": "stderr",
     "output_type": "stream",
     "text": [
      " 33%|███▎      | 10/30 [04:33<09:20, 28.01s/it]"
     ]
    },
    {
     "name": "stdout",
     "output_type": "stream",
     "text": [
      "HUP144: 280839.40113767015-280899.40113767015\n",
      "HUP144: 295690.433488904-295750.433488904\n",
      "HUP144: 580109.1028139027-580169.1028139027\n",
      "HUP144: 292628.6606292035-292688.6606292035\n",
      "HUP144: 575384.6134369908-575444.6134369908\n",
      "HUP144: 564506.9503243768-564566.9503243768\n",
      "HUP144: 274979.1044379191-275039.1044379191\n",
      "HUP144: 290733.4652790102-290793.4652790102\n",
      "HUP144: 296749.1336875165-296809.1336875165\n",
      "HUP144: 274615.3014100078-274675.3014100078\n",
      "HUP144: 303932.007609453-303992.007609453\n",
      "HUP144: 577468.2159139406-577528.2159139406\n",
      "HUP144: 559549.2278238216-559609.2278238216\n",
      "HUP144: 589895.2629534277-589955.2629534277\n",
      "HUP144: 557664.0939359753-557724.0939359753\n",
      "0\n",
      "HUP144: 580834.3689143047-580894.3689143047\n",
      "HUP144: 276329.9744430177-276389.9744430177\n",
      "HUP144: 581998.3177156517-582058.3177156517\n",
      "HUP144: 558064.0637280077-558124.0637280077\n",
      "0\n",
      "HUP144: 295030.7486611403-295090.7486611403\n"
     ]
    },
    {
     "name": "stderr",
     "output_type": "stream",
     "text": [
      " 37%|███▋      | 11/30 [04:57<08:25, 26.62s/it]"
     ]
    },
    {
     "name": "stdout",
     "output_type": "stream",
     "text": [
      "HUP146: 830979.6290664196-831039.6290664196\n",
      "0\n",
      "HUP146: 828424.8828278028-828484.8828278028\n",
      "0\n",
      "HUP146: 781706.2178174512-781766.2178174512\n",
      "HUP146: 792587.9016988553-792647.9016988553\n",
      "0\n",
      "HUP146: 373022.0693788325-373082.0693788325\n",
      "HUP146: 404520.0758777397-404580.0758777397\n",
      "HUP146: 821036.5280253104-821096.5280253104\n",
      "0\n",
      "HUP146: 383277.4336841602-383337.4336841602\n",
      "HUP146: 387378.3185677568-387438.3185677568\n",
      "HUP146: 848312.6003443833-848372.6003443833\n",
      "0\n",
      "HUP146: 335424.66295810626-335484.66295810626\n",
      "HUP146: 377544.9078834604-377604.9078834604\n",
      "HUP146: 778446.4375048483-778506.4375048483\n",
      "HUP146: 816463.2378732015-816523.2378732015\n",
      "0\n",
      "HUP146: 826832.999370512-826892.999370512\n",
      "0\n",
      "HUP146: 384851.75579276186-384911.75579276186\n",
      "HUP146: 338648.482008308-338708.482008308\n",
      "HUP146: 334556.4557083526-334616.4557083526\n",
      "HUP146: 777568.5455214789-777628.5455214789\n",
      "HUP146: 349410.12126955384-349470.12126955384\n"
     ]
    },
    {
     "name": "stderr",
     "output_type": "stream",
     "text": [
      " 40%|████      | 12/30 [05:26<08:14, 27.48s/it]"
     ]
    },
    {
     "name": "stdout",
     "output_type": "stream",
     "text": [
      "HUP148: 124546.00316504802-124606.00316504802\n",
      "HUP148: 582795.0782298535-582855.0782298535\n",
      "HUP148: 98322.37223980442-98382.37223980442\n",
      "HUP148: 87331.99189183039-87391.99189183039\n",
      "HUP148: 87974.38739052707-88034.38739052707\n",
      "HUP148: 551723.0128022056-551783.0128022056\n",
      "HUP148: 561196.0178060711-561256.0178060711\n",
      "HUP148: 585410.4395938565-585470.4395938565\n",
      "HUP148: 579139.1291059777-579199.1291059777\n",
      "HUP148: 126415.43302098598-126475.43302098598\n",
      "HUP148: 115793.09617716307-115853.09617716307\n",
      "HUP148: 552276.716639647-552336.716639647\n",
      "HUP148: 139098.7960530361-139158.7960530361\n",
      "HUP148: 90359.72435592295-90419.72435592295\n",
      "HUP148: 554332.724556904-554392.724556904\n",
      "HUP148: 119139.5910348474-119199.5910348474\n",
      "HUP148: 123381.14599949072-123441.14599949072\n",
      "HUP148: 596342.6874018773-596402.6874018773\n",
      "HUP148: 583799.1106116943-583859.1106116943\n",
      "HUP148: 576254.664553475-576314.664553475\n"
     ]
    },
    {
     "name": "stderr",
     "output_type": "stream",
     "text": [
      " 43%|████▎     | 13/30 [05:52<07:38, 26.96s/it]"
     ]
    },
    {
     "name": "stdout",
     "output_type": "stream",
     "text": [
      "HUP150: 275714.93533219706-275774.93533219706\n",
      "HUP150: 278659.24053319526-278719.24053319526\n",
      "HUP150: 294423.7221754474-294483.7221754474\n",
      "HUP150: 269082.37237477547-269142.37237477547\n",
      "HUP150: 295584.15160690236-295644.15160690236\n",
      "HUP150: 268962.03578492475-269022.03578492475\n",
      "HUP150: 289955.5253770822-290015.5253770822\n",
      "HUP150: 295334.1272828589-295394.1272828589\n",
      "HUP150: 271020.8062696506-271080.8062696506\n",
      "HUP150: 295985.40503942425-296045.40503942425\n",
      "HUP150: 276283.33245443064-276343.33245443064\n",
      "HUP150: 293705.4322945527-293765.4322945527\n",
      "HUP150: 298707.755351936-298767.755351936\n",
      "HUP150: 269529.2050761922-269589.2050761922\n",
      "HUP150: 275933.14193428366-275993.14193428366\n",
      "HUP150: 274920.3870186658-274980.3870186658\n",
      "HUP150: 287596.5559697314-287656.5559697314\n",
      "HUP150: 274293.505634933-274353.505634933\n",
      "HUP150: 287734.43939877255-287794.43939877255\n",
      "HUP150: 288246.42685957317-288306.42685957317\n"
     ]
    },
    {
     "name": "stderr",
     "output_type": "stream",
     "text": [
      " 47%|████▋     | 14/30 [06:16<06:57, 26.09s/it]"
     ]
    },
    {
     "name": "stdout",
     "output_type": "stream",
     "text": [
      "HUP151: 430857.50033058773-430917.50033058773\n",
      "HUP151: 655764.3998924355-655824.3998924355\n",
      "HUP151: 421654.1197862774-421714.1197862774\n",
      "HUP151: 642458.2627806178-642518.2627806178\n",
      "HUP151: 442522.4351651905-442582.4351651905\n",
      "HUP151: 445725.9732640983-445785.9732640983\n",
      "HUP151: 652579.7612583141-652639.7612583141\n",
      "HUP151: 642224.5350000797-642284.5350000797\n",
      "HUP151: 450867.19567643374-450927.19567643374\n",
      "HUP151: 345148.3505851492-345208.3505851492\n",
      "HUP151: 656444.5691837624-656504.5691837624\n",
      "HUP151: 661059.2563932074-661119.2563932074\n",
      "HUP151: 646223.2510732987-646283.2510732987\n",
      "HUP151: 343381.6632045062-343441.6632045062\n",
      "HUP151: 351708.39766501816-351768.39766501816\n",
      "HUP151: 653797.3426661162-653857.3426661162\n",
      "HUP151: 373606.9158854878-373666.9158854878\n",
      "HUP151: 655340.5807957855-655400.5807957855\n",
      "HUP151: 485748.4136462016-485808.4136462016\n",
      "HUP151: 643326.1385921525-643386.1385921525\n"
     ]
    },
    {
     "name": "stderr",
     "output_type": "stream",
     "text": [
      " 50%|█████     | 15/30 [06:44<06:39, 26.62s/it]"
     ]
    },
    {
     "name": "stdout",
     "output_type": "stream",
     "text": [
      "HUP157: 387968.64674932766-388028.64674932766\n",
      "HUP157: 457738.61619701615-457798.61619701615\n",
      "HUP157: 444942.4226454206-445002.4226454206\n",
      "HUP157: 448540.7504813341-448600.7504813341\n",
      "HUP157: 379554.96270976716-379614.96270976716\n",
      "HUP157: 457126.5517119914-457186.5517119914\n",
      "HUP157: 388391.3045495445-388451.3045495445\n",
      "HUP157: 456745.1692819956-456805.1692819956\n",
      "HUP157: 379700.20135966135-379760.20135966135\n",
      "HUP157: 386746.3156462065-386806.3156462065\n",
      "HUP157: 455356.4543500645-455416.4543500645\n",
      "HUP157: 461891.2384726989-461951.2384726989\n",
      "HUP157: 385989.7094806993-386049.7094806993\n",
      "HUP157: 380239.5001578312-380299.5001578312\n",
      "HUP157: 382039.76842027105-382099.76842027105\n",
      "HUP157: 391258.8752698101-391318.8752698101\n",
      "HUP157: 445152.74745051726-445212.74745051726\n",
      "HUP157: 445933.7235522406-445993.7235522406\n",
      "HUP157: 454260.788393302-454320.788393302\n",
      "HUP157: 387705.28518719284-387765.28518719284\n"
     ]
    },
    {
     "name": "stderr",
     "output_type": "stream",
     "text": [
      " 53%|█████▎    | 16/30 [07:13<06:23, 27.41s/it]"
     ]
    },
    {
     "name": "stdout",
     "output_type": "stream",
     "text": [
      "HUP158: 264848.1564627666-264908.1564627666\n",
      "HUP158: 464529.04102263646-464589.04102263646\n",
      "HUP158: 264346.1896015001-264406.1896015001\n",
      "HUP158: 304796.6912867038-304856.6912867038\n",
      "HUP158: 292514.94354739017-292574.94354739017\n",
      "HUP158: 272934.0560149326-272994.0560149326\n",
      "HUP158: 289200.5989780229-289260.5989780229\n",
      "HUP158: 293425.16115695453-293485.16115695453\n",
      "HUP158: 458298.0463951311-458358.0463951311\n",
      "HUP158: 467131.4377583354-467191.4377583354\n",
      "HUP158: 465348.90838531905-465408.90838531905\n",
      "HUP158: 466388.0590878967-466448.0590878967\n",
      "HUP158: 457556.2735444889-457616.2735444889\n",
      "HUP158: 460248.8383126914-460308.8383126914\n",
      "HUP158: 266712.0551233456-266772.0551233456\n",
      "HUP158: 470238.7712045993-470298.7712045993\n",
      "HUP158: 294885.9307903764-294945.9307903764\n",
      "HUP158: 466673.44078212953-466733.44078212953\n",
      "HUP158: 457713.6558581375-457773.6558581375\n",
      "HUP158: 286585.6530088119-286645.6530088119\n"
     ]
    },
    {
     "name": "stderr",
     "output_type": "stream",
     "text": [
      " 57%|█████▋    | 17/30 [08:02<07:21, 33.96s/it]"
     ]
    },
    {
     "name": "stdout",
     "output_type": "stream",
     "text": [
      "HUP162: 694405.0334301416-694465.0334301416\n",
      "HUP162: 1052934.56022623-1052994.56022623\n",
      "HUP162: 689542.6235931197-689602.6235931197\n",
      "HUP162: 1066510.8146575189-1066570.8146575189\n",
      "HUP162: 692377.2341610296-692437.2341610296\n",
      "HUP162: 1044769.0009967699-1044829.0009967699\n",
      "HUP162: 702881.2633003141-702941.2633003141\n",
      "HUP162: 693155.70254329-693215.70254329\n",
      "HUP162: 668715.0694678874-668775.0694678874\n",
      "HUP162: 675630.5774490035-675690.5774490035\n",
      "HUP162: 1018817.0156050837-1018877.0156050837\n",
      "HUP162: 1051847.8686628004-1051907.8686628004\n",
      "HUP162: 687306.1773444864-687366.1773444864\n",
      "HUP162: 1047890.9354591522-1047950.9354591522\n",
      "HUP162: 1054678.5454228178-1054738.5454228178\n",
      "HUP162: 670309.1785685591-670369.1785685591\n",
      "HUP162: 1018217.7268772809-1018277.7268772809\n",
      "HUP162: 1021042.2889114401-1021102.2889114401\n",
      "HUP162: 1028470.6179236373-1028530.6179236373\n",
      "HUP162: 668285.7596783026-668345.7596783026\n"
     ]
    },
    {
     "name": "stderr",
     "output_type": "stream",
     "text": [
      " 60%|██████    | 18/30 [08:35<06:44, 33.71s/it]"
     ]
    },
    {
     "name": "stdout",
     "output_type": "stream",
     "text": [
      "HUP163: 383746.53097067797-383806.53097067797\n",
      "HUP163: 392588.7818257439-392648.7818257439\n",
      "HUP163: 550159.6602070403-550219.6602070403\n",
      "HUP163: 366097.4774747881-366157.4774747881\n",
      "HUP163: 516756.49020782846-516816.49020782846\n",
      "HUP163: 541081.1422175274-541141.1422175274\n",
      "HUP163: 358053.5521643407-358113.5521643407\n",
      "HUP163: 519344.18103771214-519404.18103771214\n",
      "HUP163: 354994.9146160851-355054.9146160851\n",
      "HUP163: 387127.18462754757-387187.18462754757\n",
      "HUP163: 517305.52185472933-517365.52185472933\n",
      "HUP163: 355643.8672618179-355703.8672618179\n",
      "HUP163: 526149.5613528744-526209.5613528744\n",
      "HUP163: 543941.2674624698-544001.2674624698\n",
      "HUP163: 548561.9277281334-548621.9277281334\n",
      "HUP163: 560999.6609664729-561059.6609664729\n",
      "HUP163: 394477.2935813278-394537.2935813278\n",
      "HUP163: 547566.3674396386-547626.3674396386\n",
      "HUP163: 391412.03457109636-391472.03457109636\n",
      "HUP163: 407290.119968091-407350.119968091\n"
     ]
    },
    {
     "name": "stderr",
     "output_type": "stream",
     "text": [
      " 63%|██████▎   | 19/30 [09:07<06:03, 33.06s/it]"
     ]
    },
    {
     "name": "stdout",
     "output_type": "stream",
     "text": [
      "HUP164: 469896.1464939275-469956.1464939275\n",
      "HUP164: 531466.3984324225-531526.3984324225\n",
      "HUP164: 401814.6793069365-401874.6793069365\n",
      "HUP164: 536742.8434871775-536802.8434871775\n",
      "HUP164: 429480.756597047-429540.756597047\n",
      "HUP164: 468779.0588458959-468839.0588458959\n",
      "HUP164: 454832.3811711646-454892.3811711646\n",
      "HUP164: 398521.15295289614-398581.15295289614\n",
      "HUP164: 524090.5860721815-524150.5860721815\n",
      "HUP164: 474044.10591432045-474104.10591432045\n",
      "HUP164: 441035.5907019519-441095.5907019519\n",
      "HUP164: 558798.4590812302-558858.4590812302\n",
      "HUP164: 487890.6780256685-487950.6780256685\n",
      "HUP164: 439002.0502321182-439062.0502321182\n",
      "HUP164: 433121.028364172-433181.028364172\n",
      "HUP164: 437734.93438917154-437794.93438917154\n",
      "HUP164: 410476.3397952806-410536.3397952806\n",
      "HUP164: 399219.94207305985-399279.94207305985\n",
      "HUP164: 533492.0159126278-533552.0159126278\n",
      "HUP164: 518271.23011887097-518331.23011887097\n"
     ]
    },
    {
     "name": "stderr",
     "output_type": "stream",
     "text": [
      " 67%|██████▋   | 20/30 [09:43<05:40, 34.07s/it]"
     ]
    },
    {
     "name": "stdout",
     "output_type": "stream",
     "text": [
      "HUP166: 537482.5556889344-537542.5556889344\n",
      "HUP166: 533391.7023930823-533451.7023930823\n",
      "HUP166: 353936.2254584779-353996.2254584779\n",
      "HUP166: 502301.20401665696-502361.20401665696\n",
      "HUP166: 512034.97792779515-512094.97792779515\n",
      "HUP166: 498600.0152037562-498660.0152037562\n",
      "HUP166: 359474.8205115467-359534.8205115467\n",
      "HUP166: 436148.38286922796-436208.38286922796\n",
      "HUP166: 499385.2982700216-499445.2982700216\n",
      "HUP166: 443193.79713591014-443253.79713591014\n",
      "HUP166: 426299.7720920944-426359.7720920944\n",
      "HUP166: 352444.6254946948-352504.6254946948\n",
      "HUP166: 472643.72926905414-472703.72926905414\n",
      "HUP166: 438853.10435230646-438913.10435230646\n",
      "HUP166: 546376.7579617237-546436.7579617237\n",
      "HUP166: 542667.5566659434-542727.5566659434\n",
      "HUP166: 561881.272287514-561941.272287514\n",
      "HUP166: 544091.5121709025-544151.5121709025\n",
      "HUP166: 418529.4318287369-418589.4318287369\n",
      "HUP166: 377963.5635356063-378023.5635356063\n"
     ]
    },
    {
     "name": "stderr",
     "output_type": "stream",
     "text": [
      " 70%|███████   | 21/30 [10:21<05:15, 35.03s/it]"
     ]
    },
    {
     "name": "stdout",
     "output_type": "stream",
     "text": [
      "HUP171: 366594.3660407828-366654.3660407828\n",
      "HUP171: 998151.0934965953-998211.0934965953\n",
      "HUP171: 1005070.3449109194-1005130.3449109194\n",
      "HUP171: 354462.3321717836-354522.3321717836\n",
      "HUP171: 951202.477981258-951262.477981258\n",
      "HUP171: 362544.94342909567-362604.94342909567\n",
      "HUP171: 992691.9542257198-992751.9542257198\n",
      "HUP171: 1030710.5578209015-1030770.5578209015\n",
      "HUP171: 350778.51302066934-350838.51302066934\n",
      "HUP171: 364093.15729282785-364153.15729282785\n",
      "HUP171: 349377.7705794203-349437.7705794203\n",
      "HUP171: 373327.03310389514-373387.03310389514\n",
      "HUP171: 946263.3360135128-946323.3360135128\n",
      "HUP171: 964191.9507315999-964251.9507315999\n",
      "HUP171: 367459.2343114129-367519.2343114129\n",
      "HUP171: 1010020.1793324833-1010080.1793324833\n",
      "HUP171: 366055.4594864092-366115.4594864092\n",
      "HUP171: 349674.9667979645-349734.9667979645\n",
      "HUP171: 947311.2762146806-947371.2762146806\n",
      "HUP171: 1006970.577174194-1007030.577174194\n"
     ]
    },
    {
     "name": "stderr",
     "output_type": "stream",
     "text": [
      " 73%|███████▎  | 22/30 [10:54<04:35, 34.44s/it]"
     ]
    },
    {
     "name": "stdout",
     "output_type": "stream",
     "text": [
      "HUP172: 808065.809361188-808125.809361188\n",
      "HUP172: 771970.3457813207-772030.3457813207\n",
      "HUP172: 845064.2905281041-845124.2905281041\n",
      "If mode is 'interp', window_length must be less than or equal to the size of x.\n",
      "HUP172: 789644.9015889489-789704.9015889489\n",
      "HUP172: 805393.1853371966-805453.1853371966\n",
      "HUP172: 776728.1777475283-776788.1777475283\n",
      "HUP172: 788249.7866950063-788309.7866950063\n",
      "HUP172: 846369.4416620322-846429.4416620322\n",
      "HUP172: 788785.3687178909-788845.3687178909\n",
      "HUP172: 804673.4205125083-804733.4205125083\n",
      "HUP172: 773067.0841926578-773127.0841926578\n",
      "HUP172: 848464.0233570412-848524.0233570412\n",
      "HUP172: 836562.3452916034-836622.3452916034\n",
      "HUP172: 862674.955077053-862734.955077053\n",
      "HUP172: 795476.5017460673-795536.5017460673\n",
      "HUP172: 771674.9829755991-771734.9829755991\n",
      "HUP172: 816987.468790347-817047.468790347\n",
      "HUP172: 840311.8878856102-840371.8878856102\n",
      "HUP172: 784760.9271216984-784820.9271216984\n",
      "HUP172: 786299.5900053952-786359.5900053952\n"
     ]
    },
    {
     "name": "stderr",
     "output_type": "stream",
     "text": [
      " 77%|███████▋  | 23/30 [11:25<03:54, 33.51s/it]"
     ]
    },
    {
     "name": "stdout",
     "output_type": "stream",
     "text": [
      "HUP177: 624119.0317347219-624179.0317347219\n",
      "HUP177: 591126.1287046396-591186.1287046396\n",
      "HUP177: 592665.4949927252-592725.4949927252\n",
      "HUP177: 541724.1418747843-541784.1418747843\n",
      "HUP177: 552863.704233102-552923.704233102\n",
      "HUP177: 551072.9516587072-551132.9516587072\n",
      "HUP177: 615933.8814795048-615993.8814795048\n",
      "HUP177: 535843.047554104-535903.047554104\n",
      "HUP177: 611238.4501700585-611298.4501700585\n",
      "HUP177: 597804.1533433741-597864.1533433741\n",
      "HUP177: 609078.8050373567-609138.8050373567\n",
      "HUP177: 614727.453482153-614787.453482153\n",
      "HUP177: 556757.1011518661-556817.1011518661\n",
      "HUP177: 613975.7182442781-614035.7182442781\n",
      "HUP177: 563544.1323494413-563604.1323494413\n",
      "HUP177: 555756.7451168093-555816.7451168093\n",
      "HUP177: 537463.2262590562-537523.2262590562\n",
      "HUP177: 590711.5617111048-590771.5617111048\n",
      "HUP177: 536186.801673561-536246.801673561\n",
      "HUP177: 555133.4150186816-555193.4150186816\n"
     ]
    },
    {
     "name": "stderr",
     "output_type": "stream",
     "text": [
      " 80%|████████  | 24/30 [11:54<03:11, 31.99s/it]"
     ]
    },
    {
     "name": "stdout",
     "output_type": "stream",
     "text": [
      "HUP181: 216194.22938067943-216254.22938067943\n",
      "HUP181: 217612.81797277875-217672.81797277875\n",
      "HUP181: 215310.2951259461-215370.2951259461\n",
      "HUP181: 209552.2182020947-209612.2182020947\n",
      "HUP181: 231824.16346772187-231884.16346772187\n",
      "HUP181: 188442.41148412362-188502.41148412362\n",
      "HUP181: 251168.0771257654-251228.0771257654\n",
      "HUP181: 227237.3963165824-227297.3963165824\n",
      "HUP181: 248357.8138440518-248417.8138440518\n",
      "HUP181: 190252.4883889485-190312.4883889485\n",
      "HUP181: 258732.64647685894-258792.64647685894\n",
      "HUP181: 187954.93936893702-188014.93936893702\n",
      "HUP181: 233397.9845464297-233457.9845464297\n",
      "HUP181: 250562.58216127308-250622.58216127308\n",
      "HUP181: 196294.82339023185-196354.82339023185\n",
      "HUP181: 246618.29946843488-246678.29946843488\n",
      "HUP181: 232158.08186662468-232218.08186662468\n",
      "HUP181: 237536.9840223088-237596.9840223088\n",
      "HUP181: 252139.81031135345-252199.81031135345\n",
      "HUP181: 212091.65524679094-212151.65524679094\n"
     ]
    },
    {
     "name": "stderr",
     "output_type": "stream",
     "text": [
      " 83%|████████▎ | 25/30 [12:19<02:30, 30.09s/it]"
     ]
    },
    {
     "name": "stdout",
     "output_type": "stream",
     "text": [
      "HUP185: 356356.0530842053-356416.0530842053\n",
      "HUP185: 789652.4487237697-789712.4487237697\n",
      "HUP185: 324373.2696552667-324433.2696552667\n",
      "HUP185: 778777.4483503063-778837.4483503063\n",
      "HUP185: 364441.6248869495-364501.6248869495\n",
      "HUP185: 792476.7805672258-792536.7805672258\n",
      "HUP185: 333222.08211267716-333282.08211267716\n",
      "HUP185: 378536.52176504105-378596.52176504105\n",
      "HUP185: 773036.0286359118-773096.0286359118\n",
      "HUP185: 321722.4680924796-321782.4680924796\n",
      "HUP185: 791868.254412258-791928.254412258\n",
      "HUP185: 787904.22610165-787964.22610165\n",
      "HUP185: 800079.2191854666-800139.2191854666\n",
      "HUP185: 774617.728477852-774677.728477852\n",
      "HUP185: 361069.65149484243-361129.65149484243\n",
      "HUP185: 793453.3783818353-793513.3783818353\n",
      "HUP185: 321008.5802784827-321068.5802784827\n",
      "HUP185: 773371.6186759176-773431.6186759176\n",
      "HUP185: 362364.1458324047-362424.1458324047\n",
      "HUP185: 352637.1261873774-352697.1261873774\n"
     ]
    },
    {
     "name": "stderr",
     "output_type": "stream",
     "text": [
      " 87%|████████▋ | 26/30 [12:48<01:58, 29.65s/it]"
     ]
    },
    {
     "name": "stdout",
     "output_type": "stream",
     "text": [
      "HUP187: 303361.17507551855-303421.17507551855\n",
      "HUP187: 284035.07383030164-284095.07383030164\n",
      "HUP187: 297349.85934047605-297409.85934047605\n",
      "HUP187: 531846.538721089-531906.538721089\n",
      "HUP187: 293901.45347947243-293961.45347947243\n",
      "HUP187: 296463.8377797779-296523.8377797779\n",
      "HUP187: 554902.4423658284-554962.4423658284\n",
      "HUP187: 557976.9555388904-558036.9555388904\n",
      "HUP187: 534041.2063425053-534101.2063425053\n",
      "HUP187: 569369.9759151496-569429.9759151496\n",
      "HUP187: 552476.7181657886-552536.7181657886\n",
      "HUP187: 539812.97306851-539872.97306851\n",
      "HUP187: 278826.15202045266-278886.15202045266\n",
      "HUP187: 560176.3742653251-560236.3742653251\n",
      "HUP187: 280261.1543740798-280321.1543740798\n",
      "HUP187: 532312.1824389054-532372.1824389054\n",
      "HUP187: 279130.61718159943-279190.61718159943\n",
      "HUP187: 292315.37278901186-292375.37278901186\n",
      "HUP187: 558821.3083128366-558881.3083128366\n",
      "HUP187: 295911.75043585367-295971.75043585367\n"
     ]
    },
    {
     "name": "stderr",
     "output_type": "stream",
     "text": [
      " 90%|█████████ | 27/30 [13:21<01:31, 30.63s/it]"
     ]
    },
    {
     "name": "stdout",
     "output_type": "stream",
     "text": [
      "HUP188: 332813.18046163575-332873.18046163575\n",
      "HUP188: 326291.8699510097-326351.8699510097\n",
      "HUP188: 451475.4374995405-451535.4374995405\n",
      "HUP188: 332054.88882906357-332114.88882906357\n",
      "HUP188: 328096.1486127867-328156.1486127867\n",
      "HUP188: 449959.0898590136-450019.0898590136\n",
      "HUP188: 337335.79256825027-337395.79256825027\n",
      "HUP188: 451273.6384381557-451333.6384381557\n",
      "HUP188: 333774.28626802866-333834.28626802866\n",
      "HUP188: 445139.79571028036-445199.79571028036\n",
      "HUP188: 446932.4735522965-446992.4735522965\n",
      "HUP188: 334038.2345121909-334098.2345121909\n",
      "HUP188: 451799.29625356424-451859.29625356424\n",
      "HUP188: 445028.50755194825-445088.50755194825\n",
      "HUP188: 325605.8075810297-325665.8075810297\n",
      "HUP188: 450538.83434716007-450598.83434716007\n",
      "HUP188: 453996.55342015077-454056.55342015077\n",
      "HUP188: 445553.0298603-445613.0298603\n",
      "HUP188: 325751.3697743632-325811.3697743632\n",
      "HUP188: 334461.83385350875-334521.83385350875\n"
     ]
    },
    {
     "name": "stderr",
     "output_type": "stream",
     "text": [
      " 93%|█████████▎| 28/30 [14:03<01:08, 34.19s/it]"
     ]
    },
    {
     "name": "stdout",
     "output_type": "stream",
     "text": [
      "HUP190: 449537.1097215531-449597.1097215531\n",
      "HUP190: 452750.2841343909-452810.2841343909\n",
      "HUP190: 425116.9737155032-425176.9737155032\n",
      "HUP190: 334365.7955805218-334425.7955805218\n",
      "HUP190: 331807.500160437-331867.500160437\n",
      "HUP190: 422826.6657876106-422886.6657876106\n",
      "HUP190: 361643.31636333227-361703.31636333227\n",
      "HUP190: 373035.86848170345-373095.86848170345\n",
      "HUP190: 365232.4622961503-365292.4622961503\n",
      "HUP190: 422209.8625749612-422269.8625749612\n",
      "HUP190: 386638.88978514494-386698.88978514494\n",
      "HUP190: 457941.3111225624-458001.3111225624\n",
      "HUP190: 371030.888091932-371090.888091932\n",
      "HUP190: 459736.2650774151-459796.2650774151\n",
      "HUP190: 471914.3377464155-471974.3377464155\n",
      "HUP190: 331118.52519126487-331178.52519126487\n",
      "HUP190: 369781.56827048544-369841.56827048544\n",
      "HUP190: 456822.8605053786-456882.8605053786\n",
      "HUP190: 342905.80728897284-342965.80728897284\n",
      "HUP190: 432762.39901181724-432822.39901181724\n"
     ]
    },
    {
     "name": "stderr",
     "output_type": "stream",
     "text": [
      " 97%|█████████▋| 29/30 [14:52<00:38, 38.52s/it]"
     ]
    },
    {
     "name": "stdout",
     "output_type": "stream",
     "text": [
      "HUP191: 600704.2581563512-600764.2581563512\n",
      "HUP191: 635526.0516982643-635586.0516982643\n",
      "HUP191: 627335.8053476096-627395.8053476096\n",
      "HUP191: 684686.9930130376-684746.9930130376\n",
      "HUP191: 603537.3597532397-603597.3597532397\n",
      "HUP191: 692906.022520307-692966.022520307\n",
      "HUP191: 610988.1470017248-611048.1470017248\n",
      "HUP191: 705971.3024294758-706031.3024294758\n",
      "HUP191: 649143.351528784-649203.351528784\n",
      "HUP191: 713915.0948362263-713975.0948362263\n",
      "HUP191: 630467.1784255562-630527.1784255562\n",
      "HUP191: 634436.0747154808-634496.0747154808\n",
      "HUP191: 712517.0632248311-712577.0632248311\n",
      "HUP191: 723400.2019673045-723460.2019673045\n",
      "HUP191: 601305.358727414-601365.358727414\n",
      "HUP191: 637275.3095250176-637335.3095250176\n",
      "HUP191: 711645.9381943644-711705.9381943644\n",
      "HUP191: 686951.2479045511-687011.2479045511\n",
      "HUP191: 685167.4010964666-685227.4010964666\n",
      "HUP191: 708473.9401099182-708533.9401099182\n"
     ]
    },
    {
     "name": "stderr",
     "output_type": "stream",
     "text": [
      "100%|██████████| 30/30 [15:53<00:00, 31.79s/it]\n"
     ]
    }
   ],
   "source": [
    "for sub in tqdm(subject_data['subject'].values[24:]):\n",
    "    # try:\n",
    "    file_name=\"/mnt/leif/littlab/users/pattnaik/sz_sev_preictal/data/patients/\"+sub+\"/interictal_clip_times.npy\"\n",
    "    inter_ictal_times = pd.DataFrame(np.load(file_name))\n",
    "    hrv =pd.DataFrame()\n",
    "    for clips in inter_ictal_times.iterrows():\n",
    "        try: #skips segments with no or insufficient ECG data\n",
    "            start_time=clips[1].values[0]\n",
    "            end_time = start_time+60\n",
    "            print(\"%s: %s-%s\" %(sub, start_time, end_time))\n",
    "\n",
    "            temp = get_hr_hrv(sub, start_flag=start_time, end_flag=end_time)\n",
    "            hrv = hrv.append(temp.dropna())\n",
    "            # print(hrv)\n",
    "        except Exception as e:\n",
    "            print(e)\n",
    "            continue\n",
    "    file_name = \"./../../data/\"+sub+\"_inter_\"+\"ecg_hr_hrv\"\n",
    "    hrv_np = hrv.to_numpy()\n",
    "    #delete HR column\n",
    "    hrv_np=np.delete(hrv_np, 1,1)\n",
    "    np.save(file_name, hrv_np)\n",
    "    # except Exception as e:\n",
    "    #     print(e)\n",
    "    #     continue\n",
    "\n"
   ]
  },
  {
   "attachments": {},
   "cell_type": "markdown",
   "metadata": {},
   "source": [
    "### running HR-HRV for whole dataset"
   ]
  },
  {
   "cell_type": "code",
   "execution_count": 11,
   "metadata": {},
   "outputs": [
    {
     "name": "stderr",
     "output_type": "stream",
     "text": [
      "  0%|          | 0/334 [00:00<?, ?it/s]"
     ]
    },
    {
     "name": "stdout",
     "output_type": "stream",
     "text": [
      "Getting data for 0 to 100000\n"
     ]
    },
    {
     "name": "stderr",
     "output_type": "stream",
     "text": [
      "  2%|▏         | 6/334 [00:18<16:53,  3.09s/it]\n"
     ]
    },
    {
     "ename": "KeyboardInterrupt",
     "evalue": "",
     "output_type": "error",
     "traceback": [
      "\u001b[0;31m---------------------------------------------------------------------------\u001b[0m",
      "\u001b[0;31mKeyboardInterrupt\u001b[0m                         Traceback (most recent call last)",
      "\u001b[0;32m<ipython-input-11-0b60d83bf41f>\u001b[0m in \u001b[0;36m<module>\u001b[0;34m\u001b[0m\n\u001b[1;32m      1\u001b[0m \u001b[0mfile_name\u001b[0m \u001b[0;34m=\u001b[0m \u001b[0;34m\"./../../data/HUP173/HUP173_ecg_hr_hrv_test\"\u001b[0m\u001b[0;34m\u001b[0m\u001b[0;34m\u001b[0m\u001b[0m\n\u001b[0;32m----> 2\u001b[0;31m \u001b[0mhrv\u001b[0m \u001b[0;34m=\u001b[0m \u001b[0mget_hr_hrv\u001b[0m\u001b[0;34m(\u001b[0m\u001b[0;34m'HUP173'\u001b[0m\u001b[0;34m,\u001b[0m \u001b[0;36m0\u001b[0m\u001b[0;34m,\u001b[0m \u001b[0;36m100000\u001b[0m\u001b[0;34m)\u001b[0m\u001b[0;34m\u001b[0m\u001b[0;34m\u001b[0m\u001b[0m\n\u001b[0m\u001b[1;32m      3\u001b[0m \u001b[0mhrv_np\u001b[0m \u001b[0;34m=\u001b[0m \u001b[0mhrv\u001b[0m\u001b[0;34m.\u001b[0m\u001b[0mto_numpy\u001b[0m\u001b[0;34m(\u001b[0m\u001b[0;34m)\u001b[0m\u001b[0;34m\u001b[0m\u001b[0;34m\u001b[0m\u001b[0m\n\u001b[1;32m      4\u001b[0m \u001b[0mnp\u001b[0m\u001b[0;34m.\u001b[0m\u001b[0msave\u001b[0m\u001b[0;34m(\u001b[0m\u001b[0mfile_name\u001b[0m\u001b[0;34m,\u001b[0m \u001b[0mhrv_np\u001b[0m\u001b[0;34m)\u001b[0m\u001b[0;34m\u001b[0m\u001b[0;34m\u001b[0m\u001b[0m\n",
      "\u001b[0;32m<ipython-input-8-8a2edef68017>\u001b[0m in \u001b[0;36mget_hr_hrv\u001b[0;34m(subject_name, start_flag, end_flag)\u001b[0m\n\u001b[1;32m     93\u001b[0m             \u001b[0mend_usec\u001b[0m \u001b[0;34m=\u001b[0m \u001b[0mstart_usec\u001b[0m \u001b[0;34m+\u001b[0m \u001b[0;34m(\u001b[0m\u001b[0;36m5\u001b[0m \u001b[0;34m*\u001b[0m \u001b[0;36m60\u001b[0m \u001b[0;34m*\u001b[0m \u001b[0;36m1e6\u001b[0m\u001b[0;34m)\u001b[0m\u001b[0;34m\u001b[0m\u001b[0;34m\u001b[0m\u001b[0m\n\u001b[1;32m     94\u001b[0m \u001b[0;34m\u001b[0m\u001b[0m\n\u001b[0;32m---> 95\u001b[0;31m         \u001b[0mdata\u001b[0m\u001b[0;34m,\u001b[0m \u001b[0mfs\u001b[0m \u001b[0;34m=\u001b[0m \u001b[0mget_iEEG_data\u001b[0m\u001b[0;34m(\u001b[0m\u001b[0musername\u001b[0m\u001b[0;34m,\u001b[0m \u001b[0mpwd_bin_path\u001b[0m\u001b[0;34m,\u001b[0m\u001b[0mportal_name\u001b[0m \u001b[0;34m,\u001b[0m \u001b[0mstart_usec\u001b[0m\u001b[0;34m,\u001b[0m \u001b[0mend_usec\u001b[0m\u001b[0;34m,\u001b[0m \u001b[0mselect_electrodes\u001b[0m\u001b[0;34m=\u001b[0m\u001b[0mecg_channels\u001b[0m\u001b[0;34m)\u001b[0m\u001b[0;34m\u001b[0m\u001b[0;34m\u001b[0m\u001b[0m\n\u001b[0m\u001b[1;32m     96\u001b[0m \u001b[0;34m\u001b[0m\u001b[0m\n\u001b[1;32m     97\u001b[0m         \u001b[0mtime\u001b[0m \u001b[0;34m=\u001b[0m \u001b[0mnp\u001b[0m\u001b[0;34m.\u001b[0m\u001b[0mlinspace\u001b[0m\u001b[0;34m(\u001b[0m\u001b[0mstart_usec\u001b[0m\u001b[0;34m,\u001b[0m \u001b[0mend_usec\u001b[0m\u001b[0;34m,\u001b[0m \u001b[0mlen\u001b[0m\u001b[0;34m(\u001b[0m\u001b[0mdata\u001b[0m\u001b[0;34m)\u001b[0m\u001b[0;34m,\u001b[0m \u001b[0mendpoint\u001b[0m\u001b[0;34m=\u001b[0m\u001b[0;32mFalse\u001b[0m\u001b[0;34m)\u001b[0m\u001b[0;34m\u001b[0m\u001b[0;34m\u001b[0m\u001b[0m\n",
      "\u001b[0;32m/mnt/leif/littlab/users/jalp/git/ecg-ieeg/code/tools/get_iEEG_data.py\u001b[0m in \u001b[0;36mget_iEEG_data\u001b[0;34m(username, password_bin_file, iEEG_filename, start_time_usec, stop_time_usec, select_electrodes, ignore_electrodes, outputfile)\u001b[0m\n\u001b[1;32m     84\u001b[0m         \u001b[0;32mtry\u001b[0m\u001b[0;34m:\u001b[0m\u001b[0;34m\u001b[0m\u001b[0;34m\u001b[0m\u001b[0m\n\u001b[1;32m     85\u001b[0m             \u001b[0ms\u001b[0m \u001b[0;34m=\u001b[0m \u001b[0mSession\u001b[0m\u001b[0;34m(\u001b[0m\u001b[0musername\u001b[0m\u001b[0;34m,\u001b[0m \u001b[0mpwd\u001b[0m\u001b[0;34m)\u001b[0m\u001b[0;34m\u001b[0m\u001b[0;34m\u001b[0m\u001b[0m\n\u001b[0;32m---> 86\u001b[0;31m             \u001b[0mds\u001b[0m \u001b[0;34m=\u001b[0m \u001b[0ms\u001b[0m\u001b[0;34m.\u001b[0m\u001b[0mopen_dataset\u001b[0m\u001b[0;34m(\u001b[0m\u001b[0miEEG_filename\u001b[0m\u001b[0;34m)\u001b[0m\u001b[0;34m\u001b[0m\u001b[0;34m\u001b[0m\u001b[0m\n\u001b[0m\u001b[1;32m     87\u001b[0m             \u001b[0mall_channel_labels\u001b[0m \u001b[0;34m=\u001b[0m \u001b[0mds\u001b[0m\u001b[0;34m.\u001b[0m\u001b[0mget_channel_labels\u001b[0m\u001b[0;34m(\u001b[0m\u001b[0;34m)\u001b[0m\u001b[0;34m\u001b[0m\u001b[0;34m\u001b[0m\u001b[0m\n\u001b[1;32m     88\u001b[0m             \u001b[0;32mbreak\u001b[0m\u001b[0;34m\u001b[0m\u001b[0;34m\u001b[0m\u001b[0m\n",
      "\u001b[0;32m~/anaconda3/lib/python3.8/site-packages/ieeg-1.6-py3.8.egg/ieeg/auth.py\u001b[0m in \u001b[0;36mopen_dataset\u001b[0;34m(self, name)\u001b[0m\n\u001b[1;32m     84\u001b[0m         \u001b[0msnapshot_id\u001b[0m \u001b[0;34m=\u001b[0m \u001b[0mget_id_response\u001b[0m\u001b[0;34m.\u001b[0m\u001b[0mtext\u001b[0m\u001b[0;34m\u001b[0m\u001b[0;34m\u001b[0m\u001b[0m\n\u001b[1;32m     85\u001b[0m \u001b[0;34m\u001b[0m\u001b[0m\n\u001b[0;32m---> 86\u001b[0;31m         time_series_details_response = self.api.get_time_series_details(\n\u001b[0m\u001b[1;32m     87\u001b[0m             snapshot_id)\n\u001b[1;32m     88\u001b[0m \u001b[0;34m\u001b[0m\u001b[0m\n",
      "\u001b[0;32m~/anaconda3/lib/python3.8/site-packages/ieeg-1.6-py3.8.egg/ieeg/ieeg_api.py\u001b[0m in \u001b[0;36mget_time_series_details\u001b[0;34m(self, dataset_id)\u001b[0m\n\u001b[1;32m     96\u001b[0m         \"\"\"\n\u001b[1;32m     97\u001b[0m         \u001b[0murl\u001b[0m \u001b[0;34m=\u001b[0m \u001b[0mself\u001b[0m\u001b[0;34m.\u001b[0m\u001b[0mbase_url\u001b[0m \u001b[0;34m+\u001b[0m \u001b[0mIeegApi\u001b[0m\u001b[0;34m.\u001b[0m\u001b[0m_get_time_series_details_path\u001b[0m \u001b[0;34m+\u001b[0m \u001b[0mdataset_id\u001b[0m\u001b[0;34m\u001b[0m\u001b[0;34m\u001b[0m\u001b[0m\n\u001b[0;32m---> 98\u001b[0;31m         \u001b[0mresponse\u001b[0m \u001b[0;34m=\u001b[0m \u001b[0mself\u001b[0m\u001b[0;34m.\u001b[0m\u001b[0mhttp\u001b[0m\u001b[0;34m.\u001b[0m\u001b[0mget\u001b[0m\u001b[0;34m(\u001b[0m\u001b[0murl\u001b[0m\u001b[0;34m,\u001b[0m \u001b[0mheaders\u001b[0m\u001b[0;34m=\u001b[0m\u001b[0mIeegApi\u001b[0m\u001b[0;34m.\u001b[0m\u001b[0m_accept_xml\u001b[0m\u001b[0;34m)\u001b[0m\u001b[0;34m\u001b[0m\u001b[0;34m\u001b[0m\u001b[0m\n\u001b[0m\u001b[1;32m     99\u001b[0m         \u001b[0;32mreturn\u001b[0m \u001b[0mresponse\u001b[0m\u001b[0;34m\u001b[0m\u001b[0;34m\u001b[0m\u001b[0m\n\u001b[1;32m    100\u001b[0m \u001b[0;34m\u001b[0m\u001b[0m\n",
      "\u001b[0;32m~/anaconda3/lib/python3.8/site-packages/requests/sessions.py\u001b[0m in \u001b[0;36mget\u001b[0;34m(self, url, **kwargs)\u001b[0m\n\u001b[1;32m    553\u001b[0m \u001b[0;34m\u001b[0m\u001b[0m\n\u001b[1;32m    554\u001b[0m         \u001b[0mkwargs\u001b[0m\u001b[0;34m.\u001b[0m\u001b[0msetdefault\u001b[0m\u001b[0;34m(\u001b[0m\u001b[0;34m'allow_redirects'\u001b[0m\u001b[0;34m,\u001b[0m \u001b[0;32mTrue\u001b[0m\u001b[0;34m)\u001b[0m\u001b[0;34m\u001b[0m\u001b[0;34m\u001b[0m\u001b[0m\n\u001b[0;32m--> 555\u001b[0;31m         \u001b[0;32mreturn\u001b[0m \u001b[0mself\u001b[0m\u001b[0;34m.\u001b[0m\u001b[0mrequest\u001b[0m\u001b[0;34m(\u001b[0m\u001b[0;34m'GET'\u001b[0m\u001b[0;34m,\u001b[0m \u001b[0murl\u001b[0m\u001b[0;34m,\u001b[0m \u001b[0;34m**\u001b[0m\u001b[0mkwargs\u001b[0m\u001b[0;34m)\u001b[0m\u001b[0;34m\u001b[0m\u001b[0;34m\u001b[0m\u001b[0m\n\u001b[0m\u001b[1;32m    556\u001b[0m \u001b[0;34m\u001b[0m\u001b[0m\n\u001b[1;32m    557\u001b[0m     \u001b[0;32mdef\u001b[0m \u001b[0moptions\u001b[0m\u001b[0;34m(\u001b[0m\u001b[0mself\u001b[0m\u001b[0;34m,\u001b[0m \u001b[0murl\u001b[0m\u001b[0;34m,\u001b[0m \u001b[0;34m**\u001b[0m\u001b[0mkwargs\u001b[0m\u001b[0;34m)\u001b[0m\u001b[0;34m:\u001b[0m\u001b[0;34m\u001b[0m\u001b[0;34m\u001b[0m\u001b[0m\n",
      "\u001b[0;32m~/anaconda3/lib/python3.8/site-packages/requests/sessions.py\u001b[0m in \u001b[0;36mrequest\u001b[0;34m(self, method, url, params, data, headers, cookies, files, auth, timeout, allow_redirects, proxies, hooks, stream, verify, cert, json)\u001b[0m\n\u001b[1;32m    540\u001b[0m         }\n\u001b[1;32m    541\u001b[0m         \u001b[0msend_kwargs\u001b[0m\u001b[0;34m.\u001b[0m\u001b[0mupdate\u001b[0m\u001b[0;34m(\u001b[0m\u001b[0msettings\u001b[0m\u001b[0;34m)\u001b[0m\u001b[0;34m\u001b[0m\u001b[0;34m\u001b[0m\u001b[0m\n\u001b[0;32m--> 542\u001b[0;31m         \u001b[0mresp\u001b[0m \u001b[0;34m=\u001b[0m \u001b[0mself\u001b[0m\u001b[0;34m.\u001b[0m\u001b[0msend\u001b[0m\u001b[0;34m(\u001b[0m\u001b[0mprep\u001b[0m\u001b[0;34m,\u001b[0m \u001b[0;34m**\u001b[0m\u001b[0msend_kwargs\u001b[0m\u001b[0;34m)\u001b[0m\u001b[0;34m\u001b[0m\u001b[0;34m\u001b[0m\u001b[0m\n\u001b[0m\u001b[1;32m    543\u001b[0m \u001b[0;34m\u001b[0m\u001b[0m\n\u001b[1;32m    544\u001b[0m         \u001b[0;32mreturn\u001b[0m \u001b[0mresp\u001b[0m\u001b[0;34m\u001b[0m\u001b[0;34m\u001b[0m\u001b[0m\n",
      "\u001b[0;32m~/anaconda3/lib/python3.8/site-packages/requests/sessions.py\u001b[0m in \u001b[0;36msend\u001b[0;34m(self, request, **kwargs)\u001b[0m\n\u001b[1;32m    653\u001b[0m \u001b[0;34m\u001b[0m\u001b[0m\n\u001b[1;32m    654\u001b[0m         \u001b[0;31m# Send the request\u001b[0m\u001b[0;34m\u001b[0m\u001b[0;34m\u001b[0m\u001b[0;34m\u001b[0m\u001b[0m\n\u001b[0;32m--> 655\u001b[0;31m         \u001b[0mr\u001b[0m \u001b[0;34m=\u001b[0m \u001b[0madapter\u001b[0m\u001b[0;34m.\u001b[0m\u001b[0msend\u001b[0m\u001b[0;34m(\u001b[0m\u001b[0mrequest\u001b[0m\u001b[0;34m,\u001b[0m \u001b[0;34m**\u001b[0m\u001b[0mkwargs\u001b[0m\u001b[0;34m)\u001b[0m\u001b[0;34m\u001b[0m\u001b[0;34m\u001b[0m\u001b[0m\n\u001b[0m\u001b[1;32m    656\u001b[0m \u001b[0;34m\u001b[0m\u001b[0m\n\u001b[1;32m    657\u001b[0m         \u001b[0;31m# Total elapsed time of the request (approximately)\u001b[0m\u001b[0;34m\u001b[0m\u001b[0;34m\u001b[0m\u001b[0;34m\u001b[0m\u001b[0m\n",
      "\u001b[0;32m~/anaconda3/lib/python3.8/site-packages/requests/adapters.py\u001b[0m in \u001b[0;36msend\u001b[0;34m(self, request, stream, timeout, verify, cert, proxies)\u001b[0m\n\u001b[1;32m    437\u001b[0m         \u001b[0;32mtry\u001b[0m\u001b[0;34m:\u001b[0m\u001b[0;34m\u001b[0m\u001b[0;34m\u001b[0m\u001b[0m\n\u001b[1;32m    438\u001b[0m             \u001b[0;32mif\u001b[0m \u001b[0;32mnot\u001b[0m \u001b[0mchunked\u001b[0m\u001b[0;34m:\u001b[0m\u001b[0;34m\u001b[0m\u001b[0;34m\u001b[0m\u001b[0m\n\u001b[0;32m--> 439\u001b[0;31m                 resp = conn.urlopen(\n\u001b[0m\u001b[1;32m    440\u001b[0m                     \u001b[0mmethod\u001b[0m\u001b[0;34m=\u001b[0m\u001b[0mrequest\u001b[0m\u001b[0;34m.\u001b[0m\u001b[0mmethod\u001b[0m\u001b[0;34m,\u001b[0m\u001b[0;34m\u001b[0m\u001b[0;34m\u001b[0m\u001b[0m\n\u001b[1;32m    441\u001b[0m                     \u001b[0murl\u001b[0m\u001b[0;34m=\u001b[0m\u001b[0murl\u001b[0m\u001b[0;34m,\u001b[0m\u001b[0;34m\u001b[0m\u001b[0;34m\u001b[0m\u001b[0m\n",
      "\u001b[0;32m~/anaconda3/lib/python3.8/site-packages/urllib3/connectionpool.py\u001b[0m in \u001b[0;36murlopen\u001b[0;34m(self, method, url, body, headers, retries, redirect, assert_same_host, timeout, pool_timeout, release_conn, chunked, body_pos, **response_kw)\u001b[0m\n\u001b[1;32m    697\u001b[0m \u001b[0;34m\u001b[0m\u001b[0m\n\u001b[1;32m    698\u001b[0m             \u001b[0;31m# Make the request on the httplib connection object.\u001b[0m\u001b[0;34m\u001b[0m\u001b[0;34m\u001b[0m\u001b[0;34m\u001b[0m\u001b[0m\n\u001b[0;32m--> 699\u001b[0;31m             httplib_response = self._make_request(\n\u001b[0m\u001b[1;32m    700\u001b[0m                 \u001b[0mconn\u001b[0m\u001b[0;34m,\u001b[0m\u001b[0;34m\u001b[0m\u001b[0;34m\u001b[0m\u001b[0m\n\u001b[1;32m    701\u001b[0m                 \u001b[0mmethod\u001b[0m\u001b[0;34m,\u001b[0m\u001b[0;34m\u001b[0m\u001b[0;34m\u001b[0m\u001b[0m\n",
      "\u001b[0;32m~/anaconda3/lib/python3.8/site-packages/urllib3/connectionpool.py\u001b[0m in \u001b[0;36m_make_request\u001b[0;34m(self, conn, method, url, timeout, chunked, **httplib_request_kw)\u001b[0m\n\u001b[1;32m    443\u001b[0m                     \u001b[0;31m# Python 3 (including for exceptions like SystemExit).\u001b[0m\u001b[0;34m\u001b[0m\u001b[0;34m\u001b[0m\u001b[0;34m\u001b[0m\u001b[0m\n\u001b[1;32m    444\u001b[0m                     \u001b[0;31m# Otherwise it looks like a bug in the code.\u001b[0m\u001b[0;34m\u001b[0m\u001b[0;34m\u001b[0m\u001b[0;34m\u001b[0m\u001b[0m\n\u001b[0;32m--> 445\u001b[0;31m                     \u001b[0msix\u001b[0m\u001b[0;34m.\u001b[0m\u001b[0mraise_from\u001b[0m\u001b[0;34m(\u001b[0m\u001b[0me\u001b[0m\u001b[0;34m,\u001b[0m \u001b[0;32mNone\u001b[0m\u001b[0;34m)\u001b[0m\u001b[0;34m\u001b[0m\u001b[0;34m\u001b[0m\u001b[0m\n\u001b[0m\u001b[1;32m    446\u001b[0m         \u001b[0;32mexcept\u001b[0m \u001b[0;34m(\u001b[0m\u001b[0mSocketTimeout\u001b[0m\u001b[0;34m,\u001b[0m \u001b[0mBaseSSLError\u001b[0m\u001b[0;34m,\u001b[0m \u001b[0mSocketError\u001b[0m\u001b[0;34m)\u001b[0m \u001b[0;32mas\u001b[0m \u001b[0me\u001b[0m\u001b[0;34m:\u001b[0m\u001b[0;34m\u001b[0m\u001b[0;34m\u001b[0m\u001b[0m\n\u001b[1;32m    447\u001b[0m             \u001b[0mself\u001b[0m\u001b[0;34m.\u001b[0m\u001b[0m_raise_timeout\u001b[0m\u001b[0;34m(\u001b[0m\u001b[0merr\u001b[0m\u001b[0;34m=\u001b[0m\u001b[0me\u001b[0m\u001b[0;34m,\u001b[0m \u001b[0murl\u001b[0m\u001b[0;34m=\u001b[0m\u001b[0murl\u001b[0m\u001b[0;34m,\u001b[0m \u001b[0mtimeout_value\u001b[0m\u001b[0;34m=\u001b[0m\u001b[0mread_timeout\u001b[0m\u001b[0;34m)\u001b[0m\u001b[0;34m\u001b[0m\u001b[0;34m\u001b[0m\u001b[0m\n",
      "\u001b[0;32m~/anaconda3/lib/python3.8/site-packages/urllib3/packages/six.py\u001b[0m in \u001b[0;36mraise_from\u001b[0;34m(value, from_value)\u001b[0m\n",
      "\u001b[0;32m~/anaconda3/lib/python3.8/site-packages/urllib3/connectionpool.py\u001b[0m in \u001b[0;36m_make_request\u001b[0;34m(self, conn, method, url, timeout, chunked, **httplib_request_kw)\u001b[0m\n\u001b[1;32m    438\u001b[0m                 \u001b[0;31m# Python 3\u001b[0m\u001b[0;34m\u001b[0m\u001b[0;34m\u001b[0m\u001b[0;34m\u001b[0m\u001b[0m\n\u001b[1;32m    439\u001b[0m                 \u001b[0;32mtry\u001b[0m\u001b[0;34m:\u001b[0m\u001b[0;34m\u001b[0m\u001b[0;34m\u001b[0m\u001b[0m\n\u001b[0;32m--> 440\u001b[0;31m                     \u001b[0mhttplib_response\u001b[0m \u001b[0;34m=\u001b[0m \u001b[0mconn\u001b[0m\u001b[0;34m.\u001b[0m\u001b[0mgetresponse\u001b[0m\u001b[0;34m(\u001b[0m\u001b[0;34m)\u001b[0m\u001b[0;34m\u001b[0m\u001b[0;34m\u001b[0m\u001b[0m\n\u001b[0m\u001b[1;32m    441\u001b[0m                 \u001b[0;32mexcept\u001b[0m \u001b[0mBaseException\u001b[0m \u001b[0;32mas\u001b[0m \u001b[0me\u001b[0m\u001b[0;34m:\u001b[0m\u001b[0;34m\u001b[0m\u001b[0;34m\u001b[0m\u001b[0m\n\u001b[1;32m    442\u001b[0m                     \u001b[0;31m# Remove the TypeError from the exception chain in\u001b[0m\u001b[0;34m\u001b[0m\u001b[0;34m\u001b[0m\u001b[0;34m\u001b[0m\u001b[0m\n",
      "\u001b[0;32m~/anaconda3/lib/python3.8/http/client.py\u001b[0m in \u001b[0;36mgetresponse\u001b[0;34m(self)\u001b[0m\n\u001b[1;32m   1345\u001b[0m         \u001b[0;32mtry\u001b[0m\u001b[0;34m:\u001b[0m\u001b[0;34m\u001b[0m\u001b[0;34m\u001b[0m\u001b[0m\n\u001b[1;32m   1346\u001b[0m             \u001b[0;32mtry\u001b[0m\u001b[0;34m:\u001b[0m\u001b[0;34m\u001b[0m\u001b[0;34m\u001b[0m\u001b[0m\n\u001b[0;32m-> 1347\u001b[0;31m                 \u001b[0mresponse\u001b[0m\u001b[0;34m.\u001b[0m\u001b[0mbegin\u001b[0m\u001b[0;34m(\u001b[0m\u001b[0;34m)\u001b[0m\u001b[0;34m\u001b[0m\u001b[0;34m\u001b[0m\u001b[0m\n\u001b[0m\u001b[1;32m   1348\u001b[0m             \u001b[0;32mexcept\u001b[0m \u001b[0mConnectionError\u001b[0m\u001b[0;34m:\u001b[0m\u001b[0;34m\u001b[0m\u001b[0;34m\u001b[0m\u001b[0m\n\u001b[1;32m   1349\u001b[0m                 \u001b[0mself\u001b[0m\u001b[0;34m.\u001b[0m\u001b[0mclose\u001b[0m\u001b[0;34m(\u001b[0m\u001b[0;34m)\u001b[0m\u001b[0;34m\u001b[0m\u001b[0;34m\u001b[0m\u001b[0m\n",
      "\u001b[0;32m~/anaconda3/lib/python3.8/http/client.py\u001b[0m in \u001b[0;36mbegin\u001b[0;34m(self)\u001b[0m\n\u001b[1;32m    305\u001b[0m         \u001b[0;31m# read until we get a non-100 response\u001b[0m\u001b[0;34m\u001b[0m\u001b[0;34m\u001b[0m\u001b[0;34m\u001b[0m\u001b[0m\n\u001b[1;32m    306\u001b[0m         \u001b[0;32mwhile\u001b[0m \u001b[0;32mTrue\u001b[0m\u001b[0;34m:\u001b[0m\u001b[0;34m\u001b[0m\u001b[0;34m\u001b[0m\u001b[0m\n\u001b[0;32m--> 307\u001b[0;31m             \u001b[0mversion\u001b[0m\u001b[0;34m,\u001b[0m \u001b[0mstatus\u001b[0m\u001b[0;34m,\u001b[0m \u001b[0mreason\u001b[0m \u001b[0;34m=\u001b[0m \u001b[0mself\u001b[0m\u001b[0;34m.\u001b[0m\u001b[0m_read_status\u001b[0m\u001b[0;34m(\u001b[0m\u001b[0;34m)\u001b[0m\u001b[0;34m\u001b[0m\u001b[0;34m\u001b[0m\u001b[0m\n\u001b[0m\u001b[1;32m    308\u001b[0m             \u001b[0;32mif\u001b[0m \u001b[0mstatus\u001b[0m \u001b[0;34m!=\u001b[0m \u001b[0mCONTINUE\u001b[0m\u001b[0;34m:\u001b[0m\u001b[0;34m\u001b[0m\u001b[0;34m\u001b[0m\u001b[0m\n\u001b[1;32m    309\u001b[0m                 \u001b[0;32mbreak\u001b[0m\u001b[0;34m\u001b[0m\u001b[0;34m\u001b[0m\u001b[0m\n",
      "\u001b[0;32m~/anaconda3/lib/python3.8/http/client.py\u001b[0m in \u001b[0;36m_read_status\u001b[0;34m(self)\u001b[0m\n\u001b[1;32m    266\u001b[0m \u001b[0;34m\u001b[0m\u001b[0m\n\u001b[1;32m    267\u001b[0m     \u001b[0;32mdef\u001b[0m \u001b[0m_read_status\u001b[0m\u001b[0;34m(\u001b[0m\u001b[0mself\u001b[0m\u001b[0;34m)\u001b[0m\u001b[0;34m:\u001b[0m\u001b[0;34m\u001b[0m\u001b[0;34m\u001b[0m\u001b[0m\n\u001b[0;32m--> 268\u001b[0;31m         \u001b[0mline\u001b[0m \u001b[0;34m=\u001b[0m \u001b[0mstr\u001b[0m\u001b[0;34m(\u001b[0m\u001b[0mself\u001b[0m\u001b[0;34m.\u001b[0m\u001b[0mfp\u001b[0m\u001b[0;34m.\u001b[0m\u001b[0mreadline\u001b[0m\u001b[0;34m(\u001b[0m\u001b[0m_MAXLINE\u001b[0m \u001b[0;34m+\u001b[0m \u001b[0;36m1\u001b[0m\u001b[0;34m)\u001b[0m\u001b[0;34m,\u001b[0m \u001b[0;34m\"iso-8859-1\"\u001b[0m\u001b[0;34m)\u001b[0m\u001b[0;34m\u001b[0m\u001b[0;34m\u001b[0m\u001b[0m\n\u001b[0m\u001b[1;32m    269\u001b[0m         \u001b[0;32mif\u001b[0m \u001b[0mlen\u001b[0m\u001b[0;34m(\u001b[0m\u001b[0mline\u001b[0m\u001b[0;34m)\u001b[0m \u001b[0;34m>\u001b[0m \u001b[0m_MAXLINE\u001b[0m\u001b[0;34m:\u001b[0m\u001b[0;34m\u001b[0m\u001b[0;34m\u001b[0m\u001b[0m\n\u001b[1;32m    270\u001b[0m             \u001b[0;32mraise\u001b[0m \u001b[0mLineTooLong\u001b[0m\u001b[0;34m(\u001b[0m\u001b[0;34m\"status line\"\u001b[0m\u001b[0;34m)\u001b[0m\u001b[0;34m\u001b[0m\u001b[0;34m\u001b[0m\u001b[0m\n",
      "\u001b[0;32m~/anaconda3/lib/python3.8/socket.py\u001b[0m in \u001b[0;36mreadinto\u001b[0;34m(self, b)\u001b[0m\n\u001b[1;32m    667\u001b[0m         \u001b[0;32mwhile\u001b[0m \u001b[0;32mTrue\u001b[0m\u001b[0;34m:\u001b[0m\u001b[0;34m\u001b[0m\u001b[0;34m\u001b[0m\u001b[0m\n\u001b[1;32m    668\u001b[0m             \u001b[0;32mtry\u001b[0m\u001b[0;34m:\u001b[0m\u001b[0;34m\u001b[0m\u001b[0;34m\u001b[0m\u001b[0m\n\u001b[0;32m--> 669\u001b[0;31m                 \u001b[0;32mreturn\u001b[0m \u001b[0mself\u001b[0m\u001b[0;34m.\u001b[0m\u001b[0m_sock\u001b[0m\u001b[0;34m.\u001b[0m\u001b[0mrecv_into\u001b[0m\u001b[0;34m(\u001b[0m\u001b[0mb\u001b[0m\u001b[0;34m)\u001b[0m\u001b[0;34m\u001b[0m\u001b[0;34m\u001b[0m\u001b[0m\n\u001b[0m\u001b[1;32m    670\u001b[0m             \u001b[0;32mexcept\u001b[0m \u001b[0mtimeout\u001b[0m\u001b[0;34m:\u001b[0m\u001b[0;34m\u001b[0m\u001b[0;34m\u001b[0m\u001b[0m\n\u001b[1;32m    671\u001b[0m                 \u001b[0mself\u001b[0m\u001b[0;34m.\u001b[0m\u001b[0m_timeout_occurred\u001b[0m \u001b[0;34m=\u001b[0m \u001b[0;32mTrue\u001b[0m\u001b[0;34m\u001b[0m\u001b[0;34m\u001b[0m\u001b[0m\n",
      "\u001b[0;32m~/anaconda3/lib/python3.8/ssl.py\u001b[0m in \u001b[0;36mrecv_into\u001b[0;34m(self, buffer, nbytes, flags)\u001b[0m\n\u001b[1;32m   1239\u001b[0m                   \u001b[0;34m\"non-zero flags not allowed in calls to recv_into() on %s\"\u001b[0m \u001b[0;34m%\u001b[0m\u001b[0;34m\u001b[0m\u001b[0;34m\u001b[0m\u001b[0m\n\u001b[1;32m   1240\u001b[0m                   self.__class__)\n\u001b[0;32m-> 1241\u001b[0;31m             \u001b[0;32mreturn\u001b[0m \u001b[0mself\u001b[0m\u001b[0;34m.\u001b[0m\u001b[0mread\u001b[0m\u001b[0;34m(\u001b[0m\u001b[0mnbytes\u001b[0m\u001b[0;34m,\u001b[0m \u001b[0mbuffer\u001b[0m\u001b[0;34m)\u001b[0m\u001b[0;34m\u001b[0m\u001b[0;34m\u001b[0m\u001b[0m\n\u001b[0m\u001b[1;32m   1242\u001b[0m         \u001b[0;32melse\u001b[0m\u001b[0;34m:\u001b[0m\u001b[0;34m\u001b[0m\u001b[0;34m\u001b[0m\u001b[0m\n\u001b[1;32m   1243\u001b[0m             \u001b[0;32mreturn\u001b[0m \u001b[0msuper\u001b[0m\u001b[0;34m(\u001b[0m\u001b[0;34m)\u001b[0m\u001b[0;34m.\u001b[0m\u001b[0mrecv_into\u001b[0m\u001b[0;34m(\u001b[0m\u001b[0mbuffer\u001b[0m\u001b[0;34m,\u001b[0m \u001b[0mnbytes\u001b[0m\u001b[0;34m,\u001b[0m \u001b[0mflags\u001b[0m\u001b[0;34m)\u001b[0m\u001b[0;34m\u001b[0m\u001b[0;34m\u001b[0m\u001b[0m\n",
      "\u001b[0;32m~/anaconda3/lib/python3.8/ssl.py\u001b[0m in \u001b[0;36mread\u001b[0;34m(self, len, buffer)\u001b[0m\n\u001b[1;32m   1097\u001b[0m         \u001b[0;32mtry\u001b[0m\u001b[0;34m:\u001b[0m\u001b[0;34m\u001b[0m\u001b[0;34m\u001b[0m\u001b[0m\n\u001b[1;32m   1098\u001b[0m             \u001b[0;32mif\u001b[0m \u001b[0mbuffer\u001b[0m \u001b[0;32mis\u001b[0m \u001b[0;32mnot\u001b[0m \u001b[0;32mNone\u001b[0m\u001b[0;34m:\u001b[0m\u001b[0;34m\u001b[0m\u001b[0;34m\u001b[0m\u001b[0m\n\u001b[0;32m-> 1099\u001b[0;31m                 \u001b[0;32mreturn\u001b[0m \u001b[0mself\u001b[0m\u001b[0;34m.\u001b[0m\u001b[0m_sslobj\u001b[0m\u001b[0;34m.\u001b[0m\u001b[0mread\u001b[0m\u001b[0;34m(\u001b[0m\u001b[0mlen\u001b[0m\u001b[0;34m,\u001b[0m \u001b[0mbuffer\u001b[0m\u001b[0;34m)\u001b[0m\u001b[0;34m\u001b[0m\u001b[0;34m\u001b[0m\u001b[0m\n\u001b[0m\u001b[1;32m   1100\u001b[0m             \u001b[0;32melse\u001b[0m\u001b[0;34m:\u001b[0m\u001b[0;34m\u001b[0m\u001b[0;34m\u001b[0m\u001b[0m\n\u001b[1;32m   1101\u001b[0m                 \u001b[0;32mreturn\u001b[0m \u001b[0mself\u001b[0m\u001b[0;34m.\u001b[0m\u001b[0m_sslobj\u001b[0m\u001b[0;34m.\u001b[0m\u001b[0mread\u001b[0m\u001b[0;34m(\u001b[0m\u001b[0mlen\u001b[0m\u001b[0;34m)\u001b[0m\u001b[0;34m\u001b[0m\u001b[0;34m\u001b[0m\u001b[0m\n",
      "\u001b[0;31mKeyboardInterrupt\u001b[0m: "
     ]
    }
   ],
   "source": [
    "file_name = \"./../../data/HUP173/HUP173_ecg_hr_hrv_test\"\n",
    "hrv = get_hr_hrv('HUP173', 0, 100000)\n",
    "hrv_np = hrv.to_numpy()\n",
    "np.save(file_name, hrv_np)"
   ]
  },
  {
   "cell_type": "markdown",
   "metadata": {},
   "source": [
    "## Load smaple data"
   ]
  },
  {
   "cell_type": "code",
   "execution_count": 48,
   "metadata": {},
   "outputs": [],
   "source": [
    "file_name = \"HUP065_sz_2_ecg_hr_hrv.npy\"\n",
    "file_path = \"/mnt/leif/littlab/users/jalp/git/ecg-ieeg/data/\"+file_name\n",
    "test_df = pd.DataFrame(np.load(file_path))\n",
    "test_df.columns = ['timestamp', 'rmssd', 'hrMean']"
   ]
  },
  {
   "attachments": {},
   "cell_type": "markdown",
   "metadata": {},
   "source": [
    "### Sample Plot"
   ]
  },
  {
   "cell_type": "code",
   "execution_count": 50,
   "metadata": {},
   "outputs": [
    {
     "data": {
      "image/png": "[encoded data removed]",
      "text/plain": [
       "<Figure size 1500x500 with 3 Axes>"
      ]
     },
     "metadata": {},
     "output_type": "display_data"
    },
    {
     "data": {
      "image/png": "[encoded data removed]",
      "text/plain": [
       "<Figure size 1500x500 with 3 Axes>"
      ]
     },
     "metadata": {},
     "output_type": "display_data"
    }
   ],
   "source": [
    "plt.rcParams[\"font.size\"]=14\n",
    "fig, ax = plt.subplots(3,1, figsize=(15,5), sharex=True)\n",
    "user_data = test_df.copy()\n",
    "# axi = ax[0]\n",
    "# axi.plot(user_data['timestamp'],user_data['heartRate'], '-', lw=0.1)\n",
    "# axi.set_ylabel(\"HR [bpm]\")\n",
    "# axi.set_title(\"File=%s\"%(file_name))\n",
    "\n",
    "data_copy = user_data.copy()\n",
    "data_copy = data_copy.dropna()\n",
    "\n",
    "axi = ax[1]\n",
    "axi.plot(data_copy['timestamp'],data_copy['rmssd'], '-', lw=0.4)\n",
    "axi.set_ylabel(\"RMSSD [ms]\")\n",
    "# axi.set_xlabel(\"IEEG Time [s]\")\n",
    "\n",
    "axi = ax[2]\n",
    "axi.plot(data_copy['timestamp'],data_copy['hrMean'], '-', lw=0.4)\n",
    "axi.set_ylabel(\"HR Mean \\n[bpm]\")\n",
    "axi.set_xlabel(\"IEEG Time [s]\")\n",
    "\n",
    "for axp in ax.flatten():\n",
    "    axp.grid(alpha=0.4)\n",
    "\n",
    "plt.show()"
   ]
  },
  {
   "cell_type": "code",
   "execution_count": null,
   "metadata": {},
   "outputs": [],
   "source": []
  }
 ],
 "metadata": {
  "kernelspec": {
   "display_name": "Python 3.8.8 ('base')",
   "language": "python",
   "name": "python3"
  },
  "language_info": {
   "codemirror_mode": {
    "name": "ipython",
    "version": 3
   },
   "file_extension": ".py",
   "mimetype": "text/x-python",
   "name": "python",
   "nbconvert_exporter": "python",
   "pygments_lexer": "ipython3",
   "version": "3.8.8"
  },
  "orig_nbformat": 4,
  "vscode": {
   "interpreter": {
    "hash": "cd23c50a1ba65526a8477adeacdb65c6f1fd1f54a6550ffbda5e31349f7a6b54"
   }
  }
 },
 "nbformat": 4,
 "nbformat_minor": 2
}
