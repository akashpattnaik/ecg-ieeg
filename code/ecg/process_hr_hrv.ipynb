{
 "cells": [
  {
   "attachments": {},
   "cell_type": "markdown",
   "metadata": {},
   "source": [
    "## About\n",
    "\n",
    "Notebook to fetch ECG, calculate HR abd HRV values"
   ]
  },
  {
   "cell_type": "code",
   "execution_count": 3,
   "metadata": {},
   "outputs": [],
   "source": [
    "root_folder = \"./../\"\n",
    "sys.path.insert(1, root_folder)\n",
    "sys.path.insert(1, os.path.join(root_folder, 'tools/'))\n",
    "\n",
    "#%%\n",
    "import sys\n",
    "import getopt\n",
    "\n",
    "#Imports\n",
    "import numpy as np\n",
    "import multiprocessing # todo\n",
    "from os.path import join as ospj\n",
    "import sys\n",
    "import pandas as pd\n",
    "import seaborn as sns\n",
    "from ieeg.auth import Session\n",
    "import matplotlib.pyplot as plt\n",
    "import matplotlib.dates as mdates\n",
    "from tqdm import tqdm\n",
    "from tools import get_iEEG_data\n",
    "from numpy.lib.stride_tricks import sliding_window_view\n",
    "from scipy.signal import iirnotch, filtfilt, butter, lfilter, medfilt\n",
    "\n",
    "import warnings\n",
    "warnings.filterwarnings(\"ignore\")\n",
    "\n",
    "import biosppy\n",
    "from biosppy.signals import ecg\n",
    "import pyhrv\n",
    "import pyhrv.tools as tools\n",
    "from pyhrv.hrv import hrv\n",
    "import neurokit2 as nk\n",
    "import heartpy as hp\n",
    "import pyhrv.time_domain as td \n",
    "import pyhrv.frequency_domain as fd\n",
    "\n",
    "from datetime import datetime, date, timedelta\n",
    "import importlib\n",
    "\n",
    "from scipy import signal\n",
    "from scipy.signal import butter, lfilter, freqz, filtfilt, find_peaks, medfilt, ellip\n",
    "from scipy.signal import savgol_filter, hilbert\n",
    "import sys\n",
    "import os\n",
    "import json\n",
    "\n",
    "\n",
    "\n",
    "from helpers import *\n",
    "\n",
    "\n",
    "    "
   ]
  },
  {
   "cell_type": "code",
   "execution_count": 4,
   "metadata": {},
   "outputs": [],
   "source": [
    "def remove_std(signal, std_mul=1.5):\n",
    "    std_rem = signal.copy()\n",
    "    mean = np.mean(std_rem)\n",
    "    std = np.std(std_rem)\n",
    "    std_rem[(std_rem<(mean+std_mul*std)) & (std_rem>(mean-std_mul*std))]=mean\n",
    "    return std_rem"
   ]
  },
  {
   "cell_type": "code",
   "execution_count": 5,
   "metadata": {},
   "outputs": [],
   "source": [
    "username = 'jalpanchal'\n",
    "pwd_bin_path = \"/users/jalp/tools/jal_ieeglogin.bin\"\n",
    "with open(pwd_bin_path, \"r\") as f:\n",
    "    s = Session(username, f.read())   \n",
    "    \n",
    "#import login credentials\n",
    "from cryptography.fernet import Fernet\n",
    "import os\n",
    " \n",
    "cred_filename = '/users/jalp/ieeg_credentials/CredFile.ini'\n",
    "key_file = '/users/jalp/ieeg_credentials/key.key'\n",
    " \n",
    "key = ''\n",
    " \n",
    "with open(key_file,'r') as key_in:\n",
    "    key = key_in.read().encode()\n",
    "  \n",
    "f = Fernet(key)\n",
    "with open(cred_filename,'r') as cred_in:\n",
    "    lines = cred_in.readlines()\n",
    "    config = {}\n",
    "    for line in lines:\n",
    "        tuples = line.rstrip('\\n').split('=',1)\n",
    "        if tuples[0] in ('Username','Password'):\n",
    "            config[tuples[0]] = tuples[1]\n",
    " \n",
    "    password = f.decrypt(config['Password'].encode()).decode()\n",
    "    user = config['Username']"
   ]
  },
  {
   "attachments": {},
   "cell_type": "markdown",
   "metadata": {},
   "source": [
    "### Load subject data and seizure timestamps"
   ]
  },
  {
   "cell_type": "code",
   "execution_count": 6,
   "metadata": {},
   "outputs": [
    {
     "name": "stdout",
     "output_type": "stream",
     "text": [
      "    Unnamed: 0 subject           portal_ID     ecg_channel  ecg_multiplier\n",
      "0            0  HUP064       HUP64_phaseII    EEG EKG2-Ref               1\n",
      "1            1  HUP065       HUP65_phaseII  EEG EKG 01-Ref               1\n",
      "2            2  HUP068       HUP68_phaseII  EEG EKG 02-Ref               1\n",
      "3            3  HUP070       HUP70_phaseII    EEG EKG2-Ref               1\n",
      "4            4  HUP073       HUP73_phaseII  EEG EKG 01-Ref              -1\n",
      "5            5  HUP074       HUP74_phaseII  EEG EKG 02-Ref               1\n",
      "6            6  HUP075       HUP75_phaseII    EEG EKG2-Ref               1\n",
      "7            7  HUP078       HUP78_phaseII  EEG EKG 02-Ref               1\n",
      "8            8  HUP080       HUP80_phaseII  EEG EKG 01-Ref              -1\n",
      "9            9  HUP083       HUP83_phaseII  EEG EKG 02-Ref               1\n",
      "10          10  HUP086       HUP86_phaseII  EEG EKG 01-Ref              -1\n",
      "11          11  HUP087       HUP87_phaseII  EEG EKG 02-Ref               1\n",
      "12          12  HUP088       HUP88_phaseII     EEG EKG-Ref               1\n",
      "13          13  HUP089       HUP89_phaseII  EEG EKG 01-Ref               1\n",
      "14          14  HUP094      HUP094_phaseII            EKG2              -1\n",
      "15          15  HUP105      HUP105_phaseII             EKG               1\n",
      "16          16  HUP106      HUP106_phaseII            ECG1               1\n",
      "17          17  HUP107      HUP107_phaseII            ECG2              -1\n",
      "18          18  HUP111  HUP111_phaseII_D02            EKG2               1\n",
      "19          19  HUP112      HUP112_phaseII            EKG2              -1\n",
      "20          20  HUP114      HUP114_phaseII            EKG2              -1\n",
      "21          21  HUP116      HUP116_phaseII            EKG2              -1\n",
      "22          22  HUP123  HUP123_phaseII_D02            EKG1              -1\n",
      "23          23  HUP125  HUP125_phaseII_D05            EKG1               1\n",
      "24          24  HUP126  HUP126_phaseII_D01            EKG1               1\n",
      "25          25  HUP130      HUP130_phaseII             LE7               1\n",
      "26          26  HUP132  HUP132_phaseII_D03             LM8               1\n",
      "27          27  HUP133      HUP133_phaseII            EKG1              -1\n",
      "28          28  HUP134  HUP134_phaseII_D02            EKG2               1\n",
      "29          29  HUP135      HUP135_phaseII            EKG1               1\n",
      "30          30  HUP138      HUP138_phaseII            EKG2               1\n",
      "31          31  HUP139      HUP139_phaseII            EKG1               1\n",
      "32          32  HUP140  HUP140_phaseII_D02            EKG2               1\n",
      "33          33  HUP142      HUP142_phaseII            EKG1               1\n",
      "34          34  HUP144      HUP144_phaseII            EKG1              -1\n",
      "35          35  HUP146      HUP146_phaseII            EKG2              -1\n",
      "36          36  HUP148  HUP148_phaseII_D02            EKG1               1\n",
      "37          37  HUP150      HUP150_phaseII            EKG1              -1\n",
      "38          38  HUP151      HUP151_phaseII            EKG2              -1\n",
      "39          39  HUP157      HUP157_phaseII            EKG1               1\n",
      "40          40  HUP158      HUP158_phaseII            EKG2              -1\n",
      "41          41  HUP162      HUP162_phaseII            ECG1              -1\n",
      "42          42  HUP163      HUP163_phaseII            EKG2              -1\n",
      "43          43  HUP164      HUP164_phaseII            EKG2               1\n",
      "44          44  HUP166      HUP166_phaseII            EKG2               1\n",
      "45          45  HUP171      HUP171_phaseII            EKG2               1\n",
      "46          46  HUP172      HUP172_phaseII            EKG2              -1\n",
      "47          47  HUP177      HUP177_phaseII            EKG2               1\n",
      "48          48  HUP181  HUP181_phaseII_D02            EKG1               1\n",
      "49          49  HUP185      HUP185_phaseII            EKG2               1\n",
      "50          50  HUP187      HUP187_phaseII            EKG1               1\n",
      "51          51  HUP188      HUP188_phaseII            EKG2               1\n",
      "52          52  HUP190      HUP190_phaseII            EKG2              -1\n",
      "53          53  HUP191      HUP191_phaseII            EKG2              -1\n"
     ]
    }
   ],
   "source": [
    "subject_data = pd.read_csv(\"./../../data/subject_data.csv\")\n",
    "print(subject_data)"
   ]
  },
  {
   "cell_type": "code",
   "execution_count": 7,
   "metadata": {},
   "outputs": [
    {
     "name": "stdout",
     "output_type": "stream",
     "text": [
      "     Unnamed: 0 Patient  Seizure number Seizure type Seizure category  \\\n",
      "0             3  HUP064               0        FBTCS            FBTCS   \n",
      "1             4  HUP065               0        FBTCS            FBTCS   \n",
      "2             5  HUP065               1        FBTCS            FBTCS   \n",
      "3             6  HUP065               2        FBTCS            FBTCS   \n",
      "4             7  HUP068               0        FBTCS            FBTCS   \n",
      "..          ...     ...             ...          ...              ...   \n",
      "251         317  HUP191              10  Subclinical            Other   \n",
      "252         318  HUP191              11  Subclinical            Other   \n",
      "253         319  HUP191              12  Subclinical            Other   \n",
      "254         320  HUP191              13  Subclinical            Other   \n",
      "255         321  HUP191              14         FIAS            Focal   \n",
      "\n",
      "     Seizure EEC  Seizure UEO  Seizure end   iEEG Filename  Seizure duration  \\\n",
      "0       632657.0    632666.73     632764.0   HUP64_phaseII             97.27   \n",
      "1       223606.0    223606.00     223685.0   HUP65_phaseII             79.00   \n",
      "2       228925.0    228925.00     229019.0   HUP65_phaseII             94.00   \n",
      "3       249851.0    249851.00     249941.0   HUP65_phaseII             90.00   \n",
      "4       819104.0    819104.00     819193.0   HUP68_phaseII             89.00   \n",
      "..           ...          ...          ...             ...               ...   \n",
      "251     371639.0    371639.00     371678.0  HUP191_phaseII             39.00   \n",
      "252     374353.0    374353.00     374371.0  HUP191_phaseII             18.00   \n",
      "253     390315.0    390315.00     390360.0  HUP191_phaseII             45.00   \n",
      "254     404705.0    404705.00     404730.0  HUP191_phaseII             25.00   \n",
      "255     657662.0    657662.00     657690.0  HUP191_phaseII             28.00   \n",
      "\n",
      "     Number of Regions  Total Volume (cm^3)  NHS3  Log duration  \\\n",
      "0                   14              111.936     8      1.987979   \n",
      "1                   10               67.420    12      1.897627   \n",
      "2                   10               67.420    12      1.973128   \n",
      "3                   10               67.420    12      1.954243   \n",
      "4                   20              155.923     8      1.949390   \n",
      "..                 ...                  ...   ...           ...   \n",
      "251                  2                7.328     1      1.591065   \n",
      "252                  2                7.328     1      1.255273   \n",
      "253                  2                7.328     1      1.653213   \n",
      "254                  2                7.328     1      1.397940   \n",
      "255                  2                7.328     8      1.447158   \n",
      "\n",
      "     Seizure severity  Seizure severity (NMF)  \n",
      "0            0.860356                0.971642  \n",
      "1            0.995387                0.849017  \n",
      "2            1.014661                0.849412  \n",
      "3            1.009765                0.849313  \n",
      "4            0.932145                1.300232  \n",
      "..                ...                     ...  \n",
      "251          0.412488                0.142166  \n",
      "252          0.262139                0.140413  \n",
      "253          0.440471                0.142491  \n",
      "254          0.325782                0.141158  \n",
      "255          0.609088                0.311236  \n",
      "\n",
      "[256 rows x 16 columns]\n"
     ]
    }
   ],
   "source": [
    "sz_data = pd.read_excel(\"/users/jalp/git/ecg-ieeg/data/seizure_metadata_with_severity.xlsx\")\n",
    "print(sz_data)"
   ]
  },
  {
   "attachments": {},
   "cell_type": "markdown",
   "metadata": {},
   "source": [
    "### Calculate data segments\n",
    "1 min segments, can change to 5 mins\n",
    "- Segments used from\n",
    "/users/pattnaik/ecg-ieeg/data/sub-RID0031/all_clip_times.xlsx for each subject has the start and end timiing of each segment\\"
   ]
  },
  {
   "cell_type": "code",
   "execution_count": 35,
   "metadata": {},
   "outputs": [],
   "source": [
    "def calc_hrv_param(data, win_s, overlap_s):\n",
    "    df = data.copy()\n",
    "\n",
    "    start =df.index[0]\n",
    "    stop = df.index[-1]\n",
    "\n",
    "    hrv_windows = calc_windows(start, stop, win_s, overlap_s)\n",
    "\n",
    "    hrv_df = pd.DataFrame()\n",
    "    for i in range(len(hrv_windows)):\n",
    "        data = df[(df.index >=hrv_windows[i][0]) & (df.index <hrv_windows[i][1])]['heartRate']\n",
    "        \n",
    "        if len(data.dropna())>=2:\n",
    "\n",
    "            nni_ms = 60000/data.values\n",
    "\n",
    "            #dropping large nni values > 3000 ms\n",
    "            nni_ms = nni_ms[nni_ms < 3000]\n",
    "\n",
    "\n",
    "\n",
    "            # print(len(nni_ms))\n",
    "            # td_results = td.time_domain(nni=nni_ms, rpeaks =rpeaks_ms, sampling_rate=fs,plot=False)\n",
    "            parameters = ['rmssd', 'hf']\n",
    "\n",
    "            # hrv_params = np.ones([len(data), len(parameters)])*np.nan\n",
    "            # hrv_params[-1,0] =  int(td.rmssd(nni=nni_ms)[0])\n",
    "            rmssd = int(td.rmssd(nni=nni_ms)[0])\n",
    "            \n",
    "            #frequency based parameter \n",
    "            # try:\n",
    "            #     freq = fd.welch_psd(nni=nni_ms, show=False, mode='dev')[0]['fft_abs']\n",
    "            #     hrv_params[-1,1] =  int(freq[2])\n",
    "            # except : \n",
    "            #     hrv_params[-1,1] =  0\n",
    "            \n",
    "            hrv_df = hrv_df.append(pd.DataFrame(data={'rmssd' : rmssd, 'hrMean' : round(np.mean(data.values),1) }, index=[data.index[-1]]))\n",
    "\n",
    "        else:\n",
    "            continue\n",
    "    return hrv_df    \n",
    "\n",
    "def get_hr_hrv(subject_name, start_flag=0, end_flag=0 ):\n",
    "\n",
    "    sub_data = subject_data[subject_data['subject']==subject_name]\n",
    "\n",
    "    portal_name = sub_data['portal_ID'].iloc[0]\n",
    "    # print(\"portal_name\", portal_name)\n",
    "    ecg_channels = [sub_data['ecg_channel'].iloc[0]]\n",
    "    ecg_multiplier = sub_data['ecg_multiplier'].iloc[0]\n",
    "\n",
    "\n",
    "    #Configuring getting  ieeg data\n",
    "    # print(\"Getting data for %s\" %(subject_name))\n",
    "    # print(\"Getting data for %s from IEEG\" %(portal_name))\n",
    "\n",
    "    with open(pwd_bin_path, \"r\") as f:\n",
    "        s = Session(username, f.read())\n",
    "    ds = s.open_dataset(portal_name)\n",
    "\n",
    "    if start_flag!=0:\n",
    "        start_time_sec = int(start_flag)\n",
    "    else:\n",
    "        start_time_sec = 0\n",
    "\n",
    "    if end_flag!=0:\n",
    "        end_time_sec = int(end_flag)\n",
    "    else:\n",
    "        end_time_sec = (ds.end_time-ds.start_time)/1e6\n",
    "    \n",
    "\n",
    "    # print(\"time stamps retrived from IEEG\")\n",
    "    # print(\"Getting data for %s from %d to %d\" %(subject_name, start_time_sec, end_time_sec))\n",
    "\n",
    "    data_pull_min=1\n",
    "\n",
    "    clip_duration_sec =  end_time_sec - start_time_sec\n",
    "    clip_duration_min = clip_duration_sec / 60\n",
    "\n",
    "    # how many data_pull_min minute data pulls are there?\n",
    "    n_iter = int(np.ceil(clip_duration_min / data_pull_min))\n",
    "\n",
    "\n",
    "# %%\n",
    "    \n",
    "    hr_win = pd.DataFrame()\n",
    "    for i in range(n_iter):\n",
    "\n",
    "        start_usec = start_time_sec * 1e6 + i * (data_pull_min * 60 * 1e6)\n",
    "        if i == n_iter - 1:\n",
    "            end_usec = end_time_sec * 1e6\n",
    "        else:\n",
    "            end_usec = start_usec + (data_pull_min * 60 * 1e6)\n",
    "\n",
    "        data, fs = get_iEEG_data(username, pwd_bin_path,portal_name , start_usec, end_usec, select_electrodes=ecg_channels)\n",
    "\n",
    "        time = np.linspace(start_usec, end_usec, len(data), endpoint=False)\n",
    "        data.index = pd.to_datetime(time, unit='us')\n",
    "\n",
    "\n",
    "        # format resulting data into pandas DataFrame\n",
    "        signal_filt = pd.DataFrame(columns=ecg_channels, index=data.index)\n",
    "\n",
    "\n",
    "        hr_df = pd.DataFrame()\n",
    "        for n,c in enumerate(ecg_channels):\n",
    "            #remove baseline wander\n",
    "            temp_ = hp.remove_baseline_wander(data.iloc[:,n]*ecg_multiplier, fs)\n",
    "\n",
    "\n",
    "            #bandpas filter\n",
    "            order = int(0.3 * fs)\n",
    "            signal_filt[c], _, _ = biosppy.tools.filter_signal(signal=temp_,ftype='FIR',band='bandpass',order=order,frequency=[3,25],sampling_rate=fs)\n",
    "\n",
    "\n",
    "            # work on 5s samples\n",
    "            temp_std= pd.DataFrame()\n",
    "            for i in range(int(len(signal_filt)/int(5*fs))):\n",
    "\n",
    "                win_data = signal_filt[i*5*int(fs):(i+1)*5*int(fs)][c]\n",
    "\n",
    "                #remove noise data < 1.5 std\n",
    "\n",
    "                std_rem = remove_std(win_data, 1.5)\n",
    "                temp_std = temp_std.append(pd.DataFrame(std_rem))\n",
    "\n",
    "            try :\n",
    "            \n",
    "                out = ecg.ecg(signal=temp_std[c], sampling_rate=fs, show=False)\n",
    "                # ecg_filtered = out[1]\n",
    "                # rpeaks = out[2]\n",
    "                heart_rate_ts = out[-2]\n",
    "                heart_rate = out[-1]\n",
    "                idx = (heart_rate_ts*fs).astype(int)\n",
    "\n",
    "                temp_ = pd.DataFrame(data={c : heart_rate}, index=temp_std.index[idx])\n",
    "                hr_df = hr_df.append(temp_)\n",
    "\n",
    "                                \n",
    "                #shift time to real time\n",
    "                # hr_df.index = pd.to_datetime(hr_df.index).tz_localize(tz=tz)+ delta\n",
    "\n",
    "                # resample to 1Hz\n",
    "                hr_rs = hr_df.resample(\"1s\").mean()   \n",
    "\n",
    "                #take the min in each 1s window\n",
    "                hr_min = hr_rs.min(axis=1)\n",
    "\n",
    "                hr_win = hr_win.append(pd.DataFrame(hr_min.dropna()))\n",
    "            except:\n",
    "                    continue  \n",
    "\n",
    "    # %%\n",
    "    #smoothen\n",
    "    hr_sm = pd.DataFrame({'heartRate' : savgol_filter(hr_win[0], 11,3)}, index=hr_win.index)\n",
    "    hr_sm['heartRate'] = hr_sm['heartRate'].apply(lambda x : round(x,1))\n",
    "\n",
    "\n",
    "\n",
    "    # %%\n",
    "    #calc hrv parameters\n",
    "\n",
    "    # hrv_df = calc_hrv_param(hr_sm, 60,50) #60s window 50s overlap\n",
    "    hrv_df = calc_hrv_param(hr_sm, 60,0) #60s window 0s overlap\n",
    "\n",
    "    #combine df and add timestamp column\n",
    "    combine_df = hr_sm.join(hrv_df)\n",
    "    combine_df['timestamp'] = (combine_df.index.astype(int)/10e8).astype(int)\n",
    "    combine_df = combine_df[['timestamp', 'heartRate', 'rmssd', 'hrMean']]\n",
    "\n",
    "    return combine_df\n",
    "\n"
   ]
  },
  {
   "attachments": {},
   "cell_type": "markdown",
   "metadata": {},
   "source": [
    "### Running for each Seizure segment"
   ]
  },
  {
   "cell_type": "code",
   "execution_count": 9,
   "metadata": {},
   "outputs": [
    {
     "name": "stderr",
     "output_type": "stream",
     "text": [
      "  0%|          | 0/12 [00:00<?, ?it/s]"
     ]
    },
    {
     "name": "stdout",
     "output_type": "stream",
     "text": [
      "Getting data for HUP190 from 555518 to 559118\n"
     ]
    },
    {
     "name": "stderr",
     "output_type": "stream",
     "text": [
      "100%|██████████| 12/12 [00:17<00:00,  1.44s/it]\n",
      "100%|██████████| 60/60 [00:00<00:00, 418.83it/s]\n",
      "  0%|          | 0/12 [00:00<?, ?it/s]"
     ]
    },
    {
     "name": "stdout",
     "output_type": "stream",
     "text": [
      "Getting data for HUP190 from 561390 to 564990\n"
     ]
    },
    {
     "name": "stderr",
     "output_type": "stream",
     "text": [
      "100%|██████████| 12/12 [00:16<00:00,  1.39s/it]\n",
      "100%|██████████| 60/60 [00:00<00:00, 419.69it/s]\n",
      "  0%|          | 0/12 [00:00<?, ?it/s]"
     ]
    },
    {
     "name": "stdout",
     "output_type": "stream",
     "text": [
      "Getting data for HUP190 from 595295 to 598895\n"
     ]
    },
    {
     "name": "stderr",
     "output_type": "stream",
     "text": [
      " 92%|█████████▏| 11/12 [00:15<00:01,  1.36s/it]"
     ]
    }
   ],
   "source": [
    "for sub in subject_data['subject'].values[-2:]:\n",
    "\n",
    "    sz_times = sz_data[sz_data['Patient']==sub]\n",
    "    # print(sz_times)\n",
    "\n",
    "    for sz in range(len(sz_times)):\n",
    "        sz_num = sz_times['Seizure number'].iloc[sz]\n",
    "        sz_eec  = sz_times['Seizure EEC'].iloc[sz]\n",
    "        # print(sz_eec)\n",
    "\n",
    "        \n",
    "        start_time = int(sz_eec-60*60) #1 hour before eec\n",
    "        end_time = int(sz_eec)\n",
    "\n",
    "        file_name = \"./../../data/\"+sub+\"_sz_\"+str(sz_num)+\"_ecg_hr_hrv\"\n",
    "\n",
    "        # print(file_name)\n",
    "        # print(start_time, end_time)\n",
    "\n",
    "        hrv = get_hr_hrv(sub, start_flag=start_time, end_flag=end_time)\n",
    "        hrv_np = hrv.to_numpy()\n",
    "        np.save(file_name, hrv_np)\n",
    "\n"
   ]
  },
  {
   "attachments": {},
   "cell_type": "markdown",
   "metadata": {},
   "source": [
    "### Computing inter-ictal segments"
   ]
  },
  {
   "cell_type": "code",
   "execution_count": 40,
   "metadata": {},
   "outputs": [
    {
     "name": "stderr",
     "output_type": "stream",
     "text": [
      "  2%|▏         | 1/48 [00:00<00:32,  1.44it/s]"
     ]
    },
    {
     "name": "stdout",
     "output_type": "stream",
     "text": [
      "0\n"
     ]
    },
    {
     "name": "stderr",
     "output_type": "stream",
     "text": [
      "  4%|▍         | 2/48 [00:05<02:25,  3.17s/it]"
     ]
    },
    {
     "name": "stdout",
     "output_type": "stream",
     "text": [
      "0\n"
     ]
    },
    {
     "name": "stderr",
     "output_type": "stream",
     "text": [
      " 10%|█         | 5/48 [00:53<08:27, 11.79s/it]"
     ]
    },
    {
     "name": "stdout",
     "output_type": "stream",
     "text": [
      "0\n"
     ]
    },
    {
     "name": "stderr",
     "output_type": "stream",
     "text": [
      " 12%|█▎        | 6/48 [01:01<07:19, 10.46s/it]"
     ]
    },
    {
     "name": "stdout",
     "output_type": "stream",
     "text": [
      "0\n"
     ]
    },
    {
     "name": "stderr",
     "output_type": "stream",
     "text": [
      " 15%|█▍        | 7/48 [01:11<07:08, 10.44s/it]"
     ]
    },
    {
     "name": "stdout",
     "output_type": "stream",
     "text": [
      "If mode is 'interp', window_length must be less than or equal to the size of x.\n"
     ]
    },
    {
     "name": "stderr",
     "output_type": "stream",
     "text": [
      " 17%|█▋        | 8/48 [01:16<05:42,  8.56s/it]"
     ]
    },
    {
     "name": "stdout",
     "output_type": "stream",
     "text": [
      "0\n"
     ]
    },
    {
     "name": "stderr",
     "output_type": "stream",
     "text": [
      " 19%|█▉        | 9/48 [01:29<06:32, 10.07s/it]"
     ]
    },
    {
     "name": "stdout",
     "output_type": "stream",
     "text": [
      "If mode is 'interp', window_length must be less than or equal to the size of x.\n"
     ]
    },
    {
     "name": "stderr",
     "output_type": "stream",
     "text": [
      " 21%|██        | 10/48 [01:55<09:31, 15.03s/it]"
     ]
    },
    {
     "name": "stdout",
     "output_type": "stream",
     "text": [
      "0\n"
     ]
    },
    {
     "name": "stderr",
     "output_type": "stream",
     "text": [
      " 25%|██▌       | 12/48 [02:54<13:32, 22.56s/it]"
     ]
    },
    {
     "name": "stdout",
     "output_type": "stream",
     "text": [
      "0\n"
     ]
    },
    {
     "name": "stderr",
     "output_type": "stream",
     "text": [
      " 27%|██▋       | 13/48 [03:07<11:22, 19.51s/it]"
     ]
    },
    {
     "name": "stdout",
     "output_type": "stream",
     "text": [
      "If mode is 'interp', window_length must be less than or equal to the size of x.\n"
     ]
    },
    {
     "name": "stderr",
     "output_type": "stream",
     "text": [
      " 33%|███▎      | 16/48 [04:14<10:50, 20.34s/it]"
     ]
    },
    {
     "name": "stdout",
     "output_type": "stream",
     "text": [
      "If mode is 'interp', window_length must be less than or equal to the size of x.\n"
     ]
    },
    {
     "name": "stderr",
     "output_type": "stream",
     "text": [
      " 35%|███▌      | 17/48 [04:44<12:03, 23.32s/it]"
     ]
    },
    {
     "name": "stdout",
     "output_type": "stream",
     "text": [
      "[Errno 2] No such file or directory: '/mnt/leif/littlab/users/pattnaik/sz_sev_preictal/data/patients/HUP125/interictal_clip_times.npy'\n"
     ]
    },
    {
     "name": "stderr",
     "output_type": "stream",
     "text": [
      " 44%|████▍     | 21/48 [05:45<07:45, 17.22s/it]"
     ]
    },
    {
     "name": "stdout",
     "output_type": "stream",
     "text": [
      "If mode is 'interp', window_length must be less than or equal to the size of x.\n"
     ]
    },
    {
     "name": "stderr",
     "output_type": "stream",
     "text": [
      " 48%|████▊     | 23/48 [06:13<06:11, 14.85s/it]"
     ]
    },
    {
     "name": "stdout",
     "output_type": "stream",
     "text": [
      "0\n"
     ]
    },
    {
     "name": "stderr",
     "output_type": "stream",
     "text": [
      " 56%|█████▋    | 27/48 [07:53<07:00, 20.04s/it]"
     ]
    },
    {
     "name": "stdout",
     "output_type": "stream",
     "text": [
      "0\n"
     ]
    },
    {
     "name": "stderr",
     "output_type": "stream",
     "text": [
      " 60%|██████    | 29/48 [08:35<06:25, 20.30s/it]"
     ]
    },
    {
     "name": "stdout",
     "output_type": "stream",
     "text": [
      "0\n"
     ]
    },
    {
     "name": "stderr",
     "output_type": "stream",
     "text": [
      " 62%|██████▎   | 30/48 [08:43<05:02, 16.83s/it]"
     ]
    },
    {
     "name": "stdout",
     "output_type": "stream",
     "text": [
      "0\n"
     ]
    },
    {
     "name": "stderr",
     "output_type": "stream",
     "text": [
      " 85%|████████▌ | 41/48 [14:10<03:02, 26.03s/it]"
     ]
    },
    {
     "name": "stdout",
     "output_type": "stream",
     "text": [
      "If mode is 'interp', window_length must be less than or equal to the size of x.\n"
     ]
    },
    {
     "name": "stderr",
     "output_type": "stream",
     "text": [
      "100%|██████████| 48/48 [18:09<00:00, 22.70s/it]\n"
     ]
    }
   ],
   "source": [
    "for sub in tqdm(subject_data['subject'].values[6:]):\n",
    "    try:\n",
    "        file_name=\"/mnt/leif/littlab/users/pattnaik/sz_sev_preictal/data/patients/\"+sub+\"/interictal_clip_times.npy\"\n",
    "        inter_ictal_times = pd.DataFrame(np.load(file_name))\n",
    "        hrv =pd.DataFrame()\n",
    "        for clips in inter_ictal_times.iterrows():\n",
    "            start_time=clips[1].values[0]\n",
    "            end_time = start_time+60\n",
    "\n",
    "            temp = get_hr_hrv(sub, start_flag=start_time, end_flag=end_time)\n",
    "            hrv = hrv.append(temp.dropna())\n",
    "            # print(hrv)\n",
    "        file_name = \"./../../data/\"+sub+\"_inter_\"+\"_ecg_hr_hrv\"\n",
    "        hrv_np = hrv.to_numpy()\n",
    "        #delete HR column\n",
    "        hrv_np=np.delete(hrv_np, 1,1)\n",
    "        np.save(file_name, hrv_np)\n",
    "    except Exception as e:\n",
    "        print(e)\n",
    "        continue\n",
    "\n"
   ]
  },
  {
   "cell_type": "code",
   "execution_count": 30,
   "metadata": {},
   "outputs": [
    {
     "data": {
      "text/plain": [
       "array([[8.90176e+05, 5.50000e+01, 8.02000e+01],\n",
       "       [4.14149e+05, 3.80000e+01, 6.94000e+01],\n",
       "       [4.62536e+05, 4.00000e+00, 6.66000e+01],\n",
       "       [8.74444e+05, 3.20000e+01, 8.47000e+01],\n",
       "       [8.49362e+05, 3.80000e+01, 6.06000e+01],\n",
       "       [8.38360e+05, 2.70000e+01, 5.87000e+01],\n",
       "       [8.75609e+05, 3.30000e+01, 9.65000e+01],\n",
       "       [8.39004e+05, 3.80000e+01, 5.83000e+01],\n",
       "       [4.13540e+05, 1.20000e+01, 6.36000e+01],\n",
       "       [4.50533e+05, 4.10000e+01, 6.62000e+01],\n",
       "       [4.48762e+05, 1.90000e+01, 6.54000e+01],\n",
       "       [4.43646e+05, 2.80000e+01, 6.45000e+01],\n",
       "       [4.23942e+05, 3.00000e+00, 6.75000e+01],\n",
       "       [4.16407e+05, 5.00000e+00, 6.55000e+01],\n",
       "       [4.40479e+05, 1.60000e+01, 6.88000e+01],\n",
       "       [8.66849e+05, 8.00000e+01, 7.58000e+01],\n",
       "       [8.77481e+05, 4.90000e+01, 8.84000e+01],\n",
       "       [4.47661e+05, 4.70000e+01, 6.24000e+01],\n",
       "       [8.41391e+05, 2.70000e+01, 5.58000e+01],\n",
       "       [8.70199e+05, 3.40000e+01, 7.97000e+01]])"
      ]
     },
     "execution_count": 30,
     "metadata": {},
     "output_type": "execute_result"
    }
   ],
   "source": [
    "np.delete(hrv_np,1,1)"
   ]
  },
  {
   "attachments": {},
   "cell_type": "markdown",
   "metadata": {},
   "source": [
    "### running HR-HRV for whole dataset"
   ]
  },
  {
   "cell_type": "code",
   "execution_count": 11,
   "metadata": {},
   "outputs": [
    {
     "name": "stderr",
     "output_type": "stream",
     "text": [
      "  0%|          | 0/334 [00:00<?, ?it/s]"
     ]
    },
    {
     "name": "stdout",
     "output_type": "stream",
     "text": [
      "Getting data for 0 to 100000\n"
     ]
    },
    {
     "name": "stderr",
     "output_type": "stream",
     "text": [
      "  2%|▏         | 6/334 [00:18<16:53,  3.09s/it]\n"
     ]
    },
    {
     "ename": "KeyboardInterrupt",
     "evalue": "",
     "output_type": "error",
     "traceback": [
      "\u001b[0;31m---------------------------------------------------------------------------\u001b[0m",
      "\u001b[0;31mKeyboardInterrupt\u001b[0m                         Traceback (most recent call last)",
      "\u001b[0;32m<ipython-input-11-0b60d83bf41f>\u001b[0m in \u001b[0;36m<module>\u001b[0;34m\u001b[0m\n\u001b[1;32m      1\u001b[0m \u001b[0mfile_name\u001b[0m \u001b[0;34m=\u001b[0m \u001b[0;34m\"./../../data/HUP173/HUP173_ecg_hr_hrv_test\"\u001b[0m\u001b[0;34m\u001b[0m\u001b[0;34m\u001b[0m\u001b[0m\n\u001b[0;32m----> 2\u001b[0;31m \u001b[0mhrv\u001b[0m \u001b[0;34m=\u001b[0m \u001b[0mget_hr_hrv\u001b[0m\u001b[0;34m(\u001b[0m\u001b[0;34m'HUP173'\u001b[0m\u001b[0;34m,\u001b[0m \u001b[0;36m0\u001b[0m\u001b[0;34m,\u001b[0m \u001b[0;36m100000\u001b[0m\u001b[0;34m)\u001b[0m\u001b[0;34m\u001b[0m\u001b[0;34m\u001b[0m\u001b[0m\n\u001b[0m\u001b[1;32m      3\u001b[0m \u001b[0mhrv_np\u001b[0m \u001b[0;34m=\u001b[0m \u001b[0mhrv\u001b[0m\u001b[0;34m.\u001b[0m\u001b[0mto_numpy\u001b[0m\u001b[0;34m(\u001b[0m\u001b[0;34m)\u001b[0m\u001b[0;34m\u001b[0m\u001b[0;34m\u001b[0m\u001b[0m\n\u001b[1;32m      4\u001b[0m \u001b[0mnp\u001b[0m\u001b[0;34m.\u001b[0m\u001b[0msave\u001b[0m\u001b[0;34m(\u001b[0m\u001b[0mfile_name\u001b[0m\u001b[0;34m,\u001b[0m \u001b[0mhrv_np\u001b[0m\u001b[0;34m)\u001b[0m\u001b[0;34m\u001b[0m\u001b[0;34m\u001b[0m\u001b[0m\n",
      "\u001b[0;32m<ipython-input-8-8a2edef68017>\u001b[0m in \u001b[0;36mget_hr_hrv\u001b[0;34m(subject_name, start_flag, end_flag)\u001b[0m\n\u001b[1;32m     93\u001b[0m             \u001b[0mend_usec\u001b[0m \u001b[0;34m=\u001b[0m \u001b[0mstart_usec\u001b[0m \u001b[0;34m+\u001b[0m \u001b[0;34m(\u001b[0m\u001b[0;36m5\u001b[0m \u001b[0;34m*\u001b[0m \u001b[0;36m60\u001b[0m \u001b[0;34m*\u001b[0m \u001b[0;36m1e6\u001b[0m\u001b[0;34m)\u001b[0m\u001b[0;34m\u001b[0m\u001b[0;34m\u001b[0m\u001b[0m\n\u001b[1;32m     94\u001b[0m \u001b[0;34m\u001b[0m\u001b[0m\n\u001b[0;32m---> 95\u001b[0;31m         \u001b[0mdata\u001b[0m\u001b[0;34m,\u001b[0m \u001b[0mfs\u001b[0m \u001b[0;34m=\u001b[0m \u001b[0mget_iEEG_data\u001b[0m\u001b[0;34m(\u001b[0m\u001b[0musername\u001b[0m\u001b[0;34m,\u001b[0m \u001b[0mpwd_bin_path\u001b[0m\u001b[0;34m,\u001b[0m\u001b[0mportal_name\u001b[0m \u001b[0;34m,\u001b[0m \u001b[0mstart_usec\u001b[0m\u001b[0;34m,\u001b[0m \u001b[0mend_usec\u001b[0m\u001b[0;34m,\u001b[0m \u001b[0mselect_electrodes\u001b[0m\u001b[0;34m=\u001b[0m\u001b[0mecg_channels\u001b[0m\u001b[0;34m)\u001b[0m\u001b[0;34m\u001b[0m\u001b[0;34m\u001b[0m\u001b[0m\n\u001b[0m\u001b[1;32m     96\u001b[0m \u001b[0;34m\u001b[0m\u001b[0m\n\u001b[1;32m     97\u001b[0m         \u001b[0mtime\u001b[0m \u001b[0;34m=\u001b[0m \u001b[0mnp\u001b[0m\u001b[0;34m.\u001b[0m\u001b[0mlinspace\u001b[0m\u001b[0;34m(\u001b[0m\u001b[0mstart_usec\u001b[0m\u001b[0;34m,\u001b[0m \u001b[0mend_usec\u001b[0m\u001b[0;34m,\u001b[0m \u001b[0mlen\u001b[0m\u001b[0;34m(\u001b[0m\u001b[0mdata\u001b[0m\u001b[0;34m)\u001b[0m\u001b[0;34m,\u001b[0m \u001b[0mendpoint\u001b[0m\u001b[0;34m=\u001b[0m\u001b[0;32mFalse\u001b[0m\u001b[0;34m)\u001b[0m\u001b[0;34m\u001b[0m\u001b[0;34m\u001b[0m\u001b[0m\n",
      "\u001b[0;32m/mnt/leif/littlab/users/jalp/git/ecg-ieeg/code/tools/get_iEEG_data.py\u001b[0m in \u001b[0;36mget_iEEG_data\u001b[0;34m(username, password_bin_file, iEEG_filename, start_time_usec, stop_time_usec, select_electrodes, ignore_electrodes, outputfile)\u001b[0m\n\u001b[1;32m     84\u001b[0m         \u001b[0;32mtry\u001b[0m\u001b[0;34m:\u001b[0m\u001b[0;34m\u001b[0m\u001b[0;34m\u001b[0m\u001b[0m\n\u001b[1;32m     85\u001b[0m             \u001b[0ms\u001b[0m \u001b[0;34m=\u001b[0m \u001b[0mSession\u001b[0m\u001b[0;34m(\u001b[0m\u001b[0musername\u001b[0m\u001b[0;34m,\u001b[0m \u001b[0mpwd\u001b[0m\u001b[0;34m)\u001b[0m\u001b[0;34m\u001b[0m\u001b[0;34m\u001b[0m\u001b[0m\n\u001b[0;32m---> 86\u001b[0;31m             \u001b[0mds\u001b[0m \u001b[0;34m=\u001b[0m \u001b[0ms\u001b[0m\u001b[0;34m.\u001b[0m\u001b[0mopen_dataset\u001b[0m\u001b[0;34m(\u001b[0m\u001b[0miEEG_filename\u001b[0m\u001b[0;34m)\u001b[0m\u001b[0;34m\u001b[0m\u001b[0;34m\u001b[0m\u001b[0m\n\u001b[0m\u001b[1;32m     87\u001b[0m             \u001b[0mall_channel_labels\u001b[0m \u001b[0;34m=\u001b[0m \u001b[0mds\u001b[0m\u001b[0;34m.\u001b[0m\u001b[0mget_channel_labels\u001b[0m\u001b[0;34m(\u001b[0m\u001b[0;34m)\u001b[0m\u001b[0;34m\u001b[0m\u001b[0;34m\u001b[0m\u001b[0m\n\u001b[1;32m     88\u001b[0m             \u001b[0;32mbreak\u001b[0m\u001b[0;34m\u001b[0m\u001b[0;34m\u001b[0m\u001b[0m\n",
      "\u001b[0;32m~/anaconda3/lib/python3.8/site-packages/ieeg-1.6-py3.8.egg/ieeg/auth.py\u001b[0m in \u001b[0;36mopen_dataset\u001b[0;34m(self, name)\u001b[0m\n\u001b[1;32m     84\u001b[0m         \u001b[0msnapshot_id\u001b[0m \u001b[0;34m=\u001b[0m \u001b[0mget_id_response\u001b[0m\u001b[0;34m.\u001b[0m\u001b[0mtext\u001b[0m\u001b[0;34m\u001b[0m\u001b[0;34m\u001b[0m\u001b[0m\n\u001b[1;32m     85\u001b[0m \u001b[0;34m\u001b[0m\u001b[0m\n\u001b[0;32m---> 86\u001b[0;31m         time_series_details_response = self.api.get_time_series_details(\n\u001b[0m\u001b[1;32m     87\u001b[0m             snapshot_id)\n\u001b[1;32m     88\u001b[0m \u001b[0;34m\u001b[0m\u001b[0m\n",
      "\u001b[0;32m~/anaconda3/lib/python3.8/site-packages/ieeg-1.6-py3.8.egg/ieeg/ieeg_api.py\u001b[0m in \u001b[0;36mget_time_series_details\u001b[0;34m(self, dataset_id)\u001b[0m\n\u001b[1;32m     96\u001b[0m         \"\"\"\n\u001b[1;32m     97\u001b[0m         \u001b[0murl\u001b[0m \u001b[0;34m=\u001b[0m \u001b[0mself\u001b[0m\u001b[0;34m.\u001b[0m\u001b[0mbase_url\u001b[0m \u001b[0;34m+\u001b[0m \u001b[0mIeegApi\u001b[0m\u001b[0;34m.\u001b[0m\u001b[0m_get_time_series_details_path\u001b[0m \u001b[0;34m+\u001b[0m \u001b[0mdataset_id\u001b[0m\u001b[0;34m\u001b[0m\u001b[0;34m\u001b[0m\u001b[0m\n\u001b[0;32m---> 98\u001b[0;31m         \u001b[0mresponse\u001b[0m \u001b[0;34m=\u001b[0m \u001b[0mself\u001b[0m\u001b[0;34m.\u001b[0m\u001b[0mhttp\u001b[0m\u001b[0;34m.\u001b[0m\u001b[0mget\u001b[0m\u001b[0;34m(\u001b[0m\u001b[0murl\u001b[0m\u001b[0;34m,\u001b[0m \u001b[0mheaders\u001b[0m\u001b[0;34m=\u001b[0m\u001b[0mIeegApi\u001b[0m\u001b[0;34m.\u001b[0m\u001b[0m_accept_xml\u001b[0m\u001b[0;34m)\u001b[0m\u001b[0;34m\u001b[0m\u001b[0;34m\u001b[0m\u001b[0m\n\u001b[0m\u001b[1;32m     99\u001b[0m         \u001b[0;32mreturn\u001b[0m \u001b[0mresponse\u001b[0m\u001b[0;34m\u001b[0m\u001b[0;34m\u001b[0m\u001b[0m\n\u001b[1;32m    100\u001b[0m \u001b[0;34m\u001b[0m\u001b[0m\n",
      "\u001b[0;32m~/anaconda3/lib/python3.8/site-packages/requests/sessions.py\u001b[0m in \u001b[0;36mget\u001b[0;34m(self, url, **kwargs)\u001b[0m\n\u001b[1;32m    553\u001b[0m \u001b[0;34m\u001b[0m\u001b[0m\n\u001b[1;32m    554\u001b[0m         \u001b[0mkwargs\u001b[0m\u001b[0;34m.\u001b[0m\u001b[0msetdefault\u001b[0m\u001b[0;34m(\u001b[0m\u001b[0;34m'allow_redirects'\u001b[0m\u001b[0;34m,\u001b[0m \u001b[0;32mTrue\u001b[0m\u001b[0;34m)\u001b[0m\u001b[0;34m\u001b[0m\u001b[0;34m\u001b[0m\u001b[0m\n\u001b[0;32m--> 555\u001b[0;31m         \u001b[0;32mreturn\u001b[0m \u001b[0mself\u001b[0m\u001b[0;34m.\u001b[0m\u001b[0mrequest\u001b[0m\u001b[0;34m(\u001b[0m\u001b[0;34m'GET'\u001b[0m\u001b[0;34m,\u001b[0m \u001b[0murl\u001b[0m\u001b[0;34m,\u001b[0m \u001b[0;34m**\u001b[0m\u001b[0mkwargs\u001b[0m\u001b[0;34m)\u001b[0m\u001b[0;34m\u001b[0m\u001b[0;34m\u001b[0m\u001b[0m\n\u001b[0m\u001b[1;32m    556\u001b[0m \u001b[0;34m\u001b[0m\u001b[0m\n\u001b[1;32m    557\u001b[0m     \u001b[0;32mdef\u001b[0m \u001b[0moptions\u001b[0m\u001b[0;34m(\u001b[0m\u001b[0mself\u001b[0m\u001b[0;34m,\u001b[0m \u001b[0murl\u001b[0m\u001b[0;34m,\u001b[0m \u001b[0;34m**\u001b[0m\u001b[0mkwargs\u001b[0m\u001b[0;34m)\u001b[0m\u001b[0;34m:\u001b[0m\u001b[0;34m\u001b[0m\u001b[0;34m\u001b[0m\u001b[0m\n",
      "\u001b[0;32m~/anaconda3/lib/python3.8/site-packages/requests/sessions.py\u001b[0m in \u001b[0;36mrequest\u001b[0;34m(self, method, url, params, data, headers, cookies, files, auth, timeout, allow_redirects, proxies, hooks, stream, verify, cert, json)\u001b[0m\n\u001b[1;32m    540\u001b[0m         }\n\u001b[1;32m    541\u001b[0m         \u001b[0msend_kwargs\u001b[0m\u001b[0;34m.\u001b[0m\u001b[0mupdate\u001b[0m\u001b[0;34m(\u001b[0m\u001b[0msettings\u001b[0m\u001b[0;34m)\u001b[0m\u001b[0;34m\u001b[0m\u001b[0;34m\u001b[0m\u001b[0m\n\u001b[0;32m--> 542\u001b[0;31m         \u001b[0mresp\u001b[0m \u001b[0;34m=\u001b[0m \u001b[0mself\u001b[0m\u001b[0;34m.\u001b[0m\u001b[0msend\u001b[0m\u001b[0;34m(\u001b[0m\u001b[0mprep\u001b[0m\u001b[0;34m,\u001b[0m \u001b[0;34m**\u001b[0m\u001b[0msend_kwargs\u001b[0m\u001b[0;34m)\u001b[0m\u001b[0;34m\u001b[0m\u001b[0;34m\u001b[0m\u001b[0m\n\u001b[0m\u001b[1;32m    543\u001b[0m \u001b[0;34m\u001b[0m\u001b[0m\n\u001b[1;32m    544\u001b[0m         \u001b[0;32mreturn\u001b[0m \u001b[0mresp\u001b[0m\u001b[0;34m\u001b[0m\u001b[0;34m\u001b[0m\u001b[0m\n",
      "\u001b[0;32m~/anaconda3/lib/python3.8/site-packages/requests/sessions.py\u001b[0m in \u001b[0;36msend\u001b[0;34m(self, request, **kwargs)\u001b[0m\n\u001b[1;32m    653\u001b[0m \u001b[0;34m\u001b[0m\u001b[0m\n\u001b[1;32m    654\u001b[0m         \u001b[0;31m# Send the request\u001b[0m\u001b[0;34m\u001b[0m\u001b[0;34m\u001b[0m\u001b[0;34m\u001b[0m\u001b[0m\n\u001b[0;32m--> 655\u001b[0;31m         \u001b[0mr\u001b[0m \u001b[0;34m=\u001b[0m \u001b[0madapter\u001b[0m\u001b[0;34m.\u001b[0m\u001b[0msend\u001b[0m\u001b[0;34m(\u001b[0m\u001b[0mrequest\u001b[0m\u001b[0;34m,\u001b[0m \u001b[0;34m**\u001b[0m\u001b[0mkwargs\u001b[0m\u001b[0;34m)\u001b[0m\u001b[0;34m\u001b[0m\u001b[0;34m\u001b[0m\u001b[0m\n\u001b[0m\u001b[1;32m    656\u001b[0m \u001b[0;34m\u001b[0m\u001b[0m\n\u001b[1;32m    657\u001b[0m         \u001b[0;31m# Total elapsed time of the request (approximately)\u001b[0m\u001b[0;34m\u001b[0m\u001b[0;34m\u001b[0m\u001b[0;34m\u001b[0m\u001b[0m\n",
      "\u001b[0;32m~/anaconda3/lib/python3.8/site-packages/requests/adapters.py\u001b[0m in \u001b[0;36msend\u001b[0;34m(self, request, stream, timeout, verify, cert, proxies)\u001b[0m\n\u001b[1;32m    437\u001b[0m         \u001b[0;32mtry\u001b[0m\u001b[0;34m:\u001b[0m\u001b[0;34m\u001b[0m\u001b[0;34m\u001b[0m\u001b[0m\n\u001b[1;32m    438\u001b[0m             \u001b[0;32mif\u001b[0m \u001b[0;32mnot\u001b[0m \u001b[0mchunked\u001b[0m\u001b[0;34m:\u001b[0m\u001b[0;34m\u001b[0m\u001b[0;34m\u001b[0m\u001b[0m\n\u001b[0;32m--> 439\u001b[0;31m                 resp = conn.urlopen(\n\u001b[0m\u001b[1;32m    440\u001b[0m                     \u001b[0mmethod\u001b[0m\u001b[0;34m=\u001b[0m\u001b[0mrequest\u001b[0m\u001b[0;34m.\u001b[0m\u001b[0mmethod\u001b[0m\u001b[0;34m,\u001b[0m\u001b[0;34m\u001b[0m\u001b[0;34m\u001b[0m\u001b[0m\n\u001b[1;32m    441\u001b[0m                     \u001b[0murl\u001b[0m\u001b[0;34m=\u001b[0m\u001b[0murl\u001b[0m\u001b[0;34m,\u001b[0m\u001b[0;34m\u001b[0m\u001b[0;34m\u001b[0m\u001b[0m\n",
      "\u001b[0;32m~/anaconda3/lib/python3.8/site-packages/urllib3/connectionpool.py\u001b[0m in \u001b[0;36murlopen\u001b[0;34m(self, method, url, body, headers, retries, redirect, assert_same_host, timeout, pool_timeout, release_conn, chunked, body_pos, **response_kw)\u001b[0m\n\u001b[1;32m    697\u001b[0m \u001b[0;34m\u001b[0m\u001b[0m\n\u001b[1;32m    698\u001b[0m             \u001b[0;31m# Make the request on the httplib connection object.\u001b[0m\u001b[0;34m\u001b[0m\u001b[0;34m\u001b[0m\u001b[0;34m\u001b[0m\u001b[0m\n\u001b[0;32m--> 699\u001b[0;31m             httplib_response = self._make_request(\n\u001b[0m\u001b[1;32m    700\u001b[0m                 \u001b[0mconn\u001b[0m\u001b[0;34m,\u001b[0m\u001b[0;34m\u001b[0m\u001b[0;34m\u001b[0m\u001b[0m\n\u001b[1;32m    701\u001b[0m                 \u001b[0mmethod\u001b[0m\u001b[0;34m,\u001b[0m\u001b[0;34m\u001b[0m\u001b[0;34m\u001b[0m\u001b[0m\n",
      "\u001b[0;32m~/anaconda3/lib/python3.8/site-packages/urllib3/connectionpool.py\u001b[0m in \u001b[0;36m_make_request\u001b[0;34m(self, conn, method, url, timeout, chunked, **httplib_request_kw)\u001b[0m\n\u001b[1;32m    443\u001b[0m                     \u001b[0;31m# Python 3 (including for exceptions like SystemExit).\u001b[0m\u001b[0;34m\u001b[0m\u001b[0;34m\u001b[0m\u001b[0;34m\u001b[0m\u001b[0m\n\u001b[1;32m    444\u001b[0m                     \u001b[0;31m# Otherwise it looks like a bug in the code.\u001b[0m\u001b[0;34m\u001b[0m\u001b[0;34m\u001b[0m\u001b[0;34m\u001b[0m\u001b[0m\n\u001b[0;32m--> 445\u001b[0;31m                     \u001b[0msix\u001b[0m\u001b[0;34m.\u001b[0m\u001b[0mraise_from\u001b[0m\u001b[0;34m(\u001b[0m\u001b[0me\u001b[0m\u001b[0;34m,\u001b[0m \u001b[0;32mNone\u001b[0m\u001b[0;34m)\u001b[0m\u001b[0;34m\u001b[0m\u001b[0;34m\u001b[0m\u001b[0m\n\u001b[0m\u001b[1;32m    446\u001b[0m         \u001b[0;32mexcept\u001b[0m \u001b[0;34m(\u001b[0m\u001b[0mSocketTimeout\u001b[0m\u001b[0;34m,\u001b[0m \u001b[0mBaseSSLError\u001b[0m\u001b[0;34m,\u001b[0m \u001b[0mSocketError\u001b[0m\u001b[0;34m)\u001b[0m \u001b[0;32mas\u001b[0m \u001b[0me\u001b[0m\u001b[0;34m:\u001b[0m\u001b[0;34m\u001b[0m\u001b[0;34m\u001b[0m\u001b[0m\n\u001b[1;32m    447\u001b[0m             \u001b[0mself\u001b[0m\u001b[0;34m.\u001b[0m\u001b[0m_raise_timeout\u001b[0m\u001b[0;34m(\u001b[0m\u001b[0merr\u001b[0m\u001b[0;34m=\u001b[0m\u001b[0me\u001b[0m\u001b[0;34m,\u001b[0m \u001b[0murl\u001b[0m\u001b[0;34m=\u001b[0m\u001b[0murl\u001b[0m\u001b[0;34m,\u001b[0m \u001b[0mtimeout_value\u001b[0m\u001b[0;34m=\u001b[0m\u001b[0mread_timeout\u001b[0m\u001b[0;34m)\u001b[0m\u001b[0;34m\u001b[0m\u001b[0;34m\u001b[0m\u001b[0m\n",
      "\u001b[0;32m~/anaconda3/lib/python3.8/site-packages/urllib3/packages/six.py\u001b[0m in \u001b[0;36mraise_from\u001b[0;34m(value, from_value)\u001b[0m\n",
      "\u001b[0;32m~/anaconda3/lib/python3.8/site-packages/urllib3/connectionpool.py\u001b[0m in \u001b[0;36m_make_request\u001b[0;34m(self, conn, method, url, timeout, chunked, **httplib_request_kw)\u001b[0m\n\u001b[1;32m    438\u001b[0m                 \u001b[0;31m# Python 3\u001b[0m\u001b[0;34m\u001b[0m\u001b[0;34m\u001b[0m\u001b[0;34m\u001b[0m\u001b[0m\n\u001b[1;32m    439\u001b[0m                 \u001b[0;32mtry\u001b[0m\u001b[0;34m:\u001b[0m\u001b[0;34m\u001b[0m\u001b[0;34m\u001b[0m\u001b[0m\n\u001b[0;32m--> 440\u001b[0;31m                     \u001b[0mhttplib_response\u001b[0m \u001b[0;34m=\u001b[0m \u001b[0mconn\u001b[0m\u001b[0;34m.\u001b[0m\u001b[0mgetresponse\u001b[0m\u001b[0;34m(\u001b[0m\u001b[0;34m)\u001b[0m\u001b[0;34m\u001b[0m\u001b[0;34m\u001b[0m\u001b[0m\n\u001b[0m\u001b[1;32m    441\u001b[0m                 \u001b[0;32mexcept\u001b[0m \u001b[0mBaseException\u001b[0m \u001b[0;32mas\u001b[0m \u001b[0me\u001b[0m\u001b[0;34m:\u001b[0m\u001b[0;34m\u001b[0m\u001b[0;34m\u001b[0m\u001b[0m\n\u001b[1;32m    442\u001b[0m                     \u001b[0;31m# Remove the TypeError from the exception chain in\u001b[0m\u001b[0;34m\u001b[0m\u001b[0;34m\u001b[0m\u001b[0;34m\u001b[0m\u001b[0m\n",
      "\u001b[0;32m~/anaconda3/lib/python3.8/http/client.py\u001b[0m in \u001b[0;36mgetresponse\u001b[0;34m(self)\u001b[0m\n\u001b[1;32m   1345\u001b[0m         \u001b[0;32mtry\u001b[0m\u001b[0;34m:\u001b[0m\u001b[0;34m\u001b[0m\u001b[0;34m\u001b[0m\u001b[0m\n\u001b[1;32m   1346\u001b[0m             \u001b[0;32mtry\u001b[0m\u001b[0;34m:\u001b[0m\u001b[0;34m\u001b[0m\u001b[0;34m\u001b[0m\u001b[0m\n\u001b[0;32m-> 1347\u001b[0;31m                 \u001b[0mresponse\u001b[0m\u001b[0;34m.\u001b[0m\u001b[0mbegin\u001b[0m\u001b[0;34m(\u001b[0m\u001b[0;34m)\u001b[0m\u001b[0;34m\u001b[0m\u001b[0;34m\u001b[0m\u001b[0m\n\u001b[0m\u001b[1;32m   1348\u001b[0m             \u001b[0;32mexcept\u001b[0m \u001b[0mConnectionError\u001b[0m\u001b[0;34m:\u001b[0m\u001b[0;34m\u001b[0m\u001b[0;34m\u001b[0m\u001b[0m\n\u001b[1;32m   1349\u001b[0m                 \u001b[0mself\u001b[0m\u001b[0;34m.\u001b[0m\u001b[0mclose\u001b[0m\u001b[0;34m(\u001b[0m\u001b[0;34m)\u001b[0m\u001b[0;34m\u001b[0m\u001b[0;34m\u001b[0m\u001b[0m\n",
      "\u001b[0;32m~/anaconda3/lib/python3.8/http/client.py\u001b[0m in \u001b[0;36mbegin\u001b[0;34m(self)\u001b[0m\n\u001b[1;32m    305\u001b[0m         \u001b[0;31m# read until we get a non-100 response\u001b[0m\u001b[0;34m\u001b[0m\u001b[0;34m\u001b[0m\u001b[0;34m\u001b[0m\u001b[0m\n\u001b[1;32m    306\u001b[0m         \u001b[0;32mwhile\u001b[0m \u001b[0;32mTrue\u001b[0m\u001b[0;34m:\u001b[0m\u001b[0;34m\u001b[0m\u001b[0;34m\u001b[0m\u001b[0m\n\u001b[0;32m--> 307\u001b[0;31m             \u001b[0mversion\u001b[0m\u001b[0;34m,\u001b[0m \u001b[0mstatus\u001b[0m\u001b[0;34m,\u001b[0m \u001b[0mreason\u001b[0m \u001b[0;34m=\u001b[0m \u001b[0mself\u001b[0m\u001b[0;34m.\u001b[0m\u001b[0m_read_status\u001b[0m\u001b[0;34m(\u001b[0m\u001b[0;34m)\u001b[0m\u001b[0;34m\u001b[0m\u001b[0;34m\u001b[0m\u001b[0m\n\u001b[0m\u001b[1;32m    308\u001b[0m             \u001b[0;32mif\u001b[0m \u001b[0mstatus\u001b[0m \u001b[0;34m!=\u001b[0m \u001b[0mCONTINUE\u001b[0m\u001b[0;34m:\u001b[0m\u001b[0;34m\u001b[0m\u001b[0;34m\u001b[0m\u001b[0m\n\u001b[1;32m    309\u001b[0m                 \u001b[0;32mbreak\u001b[0m\u001b[0;34m\u001b[0m\u001b[0;34m\u001b[0m\u001b[0m\n",
      "\u001b[0;32m~/anaconda3/lib/python3.8/http/client.py\u001b[0m in \u001b[0;36m_read_status\u001b[0;34m(self)\u001b[0m\n\u001b[1;32m    266\u001b[0m \u001b[0;34m\u001b[0m\u001b[0m\n\u001b[1;32m    267\u001b[0m     \u001b[0;32mdef\u001b[0m \u001b[0m_read_status\u001b[0m\u001b[0;34m(\u001b[0m\u001b[0mself\u001b[0m\u001b[0;34m)\u001b[0m\u001b[0;34m:\u001b[0m\u001b[0;34m\u001b[0m\u001b[0;34m\u001b[0m\u001b[0m\n\u001b[0;32m--> 268\u001b[0;31m         \u001b[0mline\u001b[0m \u001b[0;34m=\u001b[0m \u001b[0mstr\u001b[0m\u001b[0;34m(\u001b[0m\u001b[0mself\u001b[0m\u001b[0;34m.\u001b[0m\u001b[0mfp\u001b[0m\u001b[0;34m.\u001b[0m\u001b[0mreadline\u001b[0m\u001b[0;34m(\u001b[0m\u001b[0m_MAXLINE\u001b[0m \u001b[0;34m+\u001b[0m \u001b[0;36m1\u001b[0m\u001b[0;34m)\u001b[0m\u001b[0;34m,\u001b[0m \u001b[0;34m\"iso-8859-1\"\u001b[0m\u001b[0;34m)\u001b[0m\u001b[0;34m\u001b[0m\u001b[0;34m\u001b[0m\u001b[0m\n\u001b[0m\u001b[1;32m    269\u001b[0m         \u001b[0;32mif\u001b[0m \u001b[0mlen\u001b[0m\u001b[0;34m(\u001b[0m\u001b[0mline\u001b[0m\u001b[0;34m)\u001b[0m \u001b[0;34m>\u001b[0m \u001b[0m_MAXLINE\u001b[0m\u001b[0;34m:\u001b[0m\u001b[0;34m\u001b[0m\u001b[0;34m\u001b[0m\u001b[0m\n\u001b[1;32m    270\u001b[0m             \u001b[0;32mraise\u001b[0m \u001b[0mLineTooLong\u001b[0m\u001b[0;34m(\u001b[0m\u001b[0;34m\"status line\"\u001b[0m\u001b[0;34m)\u001b[0m\u001b[0;34m\u001b[0m\u001b[0;34m\u001b[0m\u001b[0m\n",
      "\u001b[0;32m~/anaconda3/lib/python3.8/socket.py\u001b[0m in \u001b[0;36mreadinto\u001b[0;34m(self, b)\u001b[0m\n\u001b[1;32m    667\u001b[0m         \u001b[0;32mwhile\u001b[0m \u001b[0;32mTrue\u001b[0m\u001b[0;34m:\u001b[0m\u001b[0;34m\u001b[0m\u001b[0;34m\u001b[0m\u001b[0m\n\u001b[1;32m    668\u001b[0m             \u001b[0;32mtry\u001b[0m\u001b[0;34m:\u001b[0m\u001b[0;34m\u001b[0m\u001b[0;34m\u001b[0m\u001b[0m\n\u001b[0;32m--> 669\u001b[0;31m                 \u001b[0;32mreturn\u001b[0m \u001b[0mself\u001b[0m\u001b[0;34m.\u001b[0m\u001b[0m_sock\u001b[0m\u001b[0;34m.\u001b[0m\u001b[0mrecv_into\u001b[0m\u001b[0;34m(\u001b[0m\u001b[0mb\u001b[0m\u001b[0;34m)\u001b[0m\u001b[0;34m\u001b[0m\u001b[0;34m\u001b[0m\u001b[0m\n\u001b[0m\u001b[1;32m    670\u001b[0m             \u001b[0;32mexcept\u001b[0m \u001b[0mtimeout\u001b[0m\u001b[0;34m:\u001b[0m\u001b[0;34m\u001b[0m\u001b[0;34m\u001b[0m\u001b[0m\n\u001b[1;32m    671\u001b[0m                 \u001b[0mself\u001b[0m\u001b[0;34m.\u001b[0m\u001b[0m_timeout_occurred\u001b[0m \u001b[0;34m=\u001b[0m \u001b[0;32mTrue\u001b[0m\u001b[0;34m\u001b[0m\u001b[0;34m\u001b[0m\u001b[0m\n",
      "\u001b[0;32m~/anaconda3/lib/python3.8/ssl.py\u001b[0m in \u001b[0;36mrecv_into\u001b[0;34m(self, buffer, nbytes, flags)\u001b[0m\n\u001b[1;32m   1239\u001b[0m                   \u001b[0;34m\"non-zero flags not allowed in calls to recv_into() on %s\"\u001b[0m \u001b[0;34m%\u001b[0m\u001b[0;34m\u001b[0m\u001b[0;34m\u001b[0m\u001b[0m\n\u001b[1;32m   1240\u001b[0m                   self.__class__)\n\u001b[0;32m-> 1241\u001b[0;31m             \u001b[0;32mreturn\u001b[0m \u001b[0mself\u001b[0m\u001b[0;34m.\u001b[0m\u001b[0mread\u001b[0m\u001b[0;34m(\u001b[0m\u001b[0mnbytes\u001b[0m\u001b[0;34m,\u001b[0m \u001b[0mbuffer\u001b[0m\u001b[0;34m)\u001b[0m\u001b[0;34m\u001b[0m\u001b[0;34m\u001b[0m\u001b[0m\n\u001b[0m\u001b[1;32m   1242\u001b[0m         \u001b[0;32melse\u001b[0m\u001b[0;34m:\u001b[0m\u001b[0;34m\u001b[0m\u001b[0;34m\u001b[0m\u001b[0m\n\u001b[1;32m   1243\u001b[0m             \u001b[0;32mreturn\u001b[0m \u001b[0msuper\u001b[0m\u001b[0;34m(\u001b[0m\u001b[0;34m)\u001b[0m\u001b[0;34m.\u001b[0m\u001b[0mrecv_into\u001b[0m\u001b[0;34m(\u001b[0m\u001b[0mbuffer\u001b[0m\u001b[0;34m,\u001b[0m \u001b[0mnbytes\u001b[0m\u001b[0;34m,\u001b[0m \u001b[0mflags\u001b[0m\u001b[0;34m)\u001b[0m\u001b[0;34m\u001b[0m\u001b[0;34m\u001b[0m\u001b[0m\n",
      "\u001b[0;32m~/anaconda3/lib/python3.8/ssl.py\u001b[0m in \u001b[0;36mread\u001b[0;34m(self, len, buffer)\u001b[0m\n\u001b[1;32m   1097\u001b[0m         \u001b[0;32mtry\u001b[0m\u001b[0;34m:\u001b[0m\u001b[0;34m\u001b[0m\u001b[0;34m\u001b[0m\u001b[0m\n\u001b[1;32m   1098\u001b[0m             \u001b[0;32mif\u001b[0m \u001b[0mbuffer\u001b[0m \u001b[0;32mis\u001b[0m \u001b[0;32mnot\u001b[0m \u001b[0;32mNone\u001b[0m\u001b[0;34m:\u001b[0m\u001b[0;34m\u001b[0m\u001b[0;34m\u001b[0m\u001b[0m\n\u001b[0;32m-> 1099\u001b[0;31m                 \u001b[0;32mreturn\u001b[0m \u001b[0mself\u001b[0m\u001b[0;34m.\u001b[0m\u001b[0m_sslobj\u001b[0m\u001b[0;34m.\u001b[0m\u001b[0mread\u001b[0m\u001b[0;34m(\u001b[0m\u001b[0mlen\u001b[0m\u001b[0;34m,\u001b[0m \u001b[0mbuffer\u001b[0m\u001b[0;34m)\u001b[0m\u001b[0;34m\u001b[0m\u001b[0;34m\u001b[0m\u001b[0m\n\u001b[0m\u001b[1;32m   1100\u001b[0m             \u001b[0;32melse\u001b[0m\u001b[0;34m:\u001b[0m\u001b[0;34m\u001b[0m\u001b[0;34m\u001b[0m\u001b[0m\n\u001b[1;32m   1101\u001b[0m                 \u001b[0;32mreturn\u001b[0m \u001b[0mself\u001b[0m\u001b[0;34m.\u001b[0m\u001b[0m_sslobj\u001b[0m\u001b[0;34m.\u001b[0m\u001b[0mread\u001b[0m\u001b[0;34m(\u001b[0m\u001b[0mlen\u001b[0m\u001b[0;34m)\u001b[0m\u001b[0;34m\u001b[0m\u001b[0;34m\u001b[0m\u001b[0m\n",
      "\u001b[0;31mKeyboardInterrupt\u001b[0m: "
     ]
    }
   ],
   "source": [
    "file_name = \"./../../data/HUP173/HUP173_ecg_hr_hrv_test\"\n",
    "hrv = get_hr_hrv('HUP173', 0, 100000)\n",
    "hrv_np = hrv.to_numpy()\n",
    "np.save(file_name, hrv_np)"
   ]
  },
  {
   "cell_type": "markdown",
   "metadata": {},
   "source": [
    "## Load smaple data"
   ]
  },
  {
   "cell_type": "code",
   "execution_count": 16,
   "metadata": {},
   "outputs": [],
   "source": [
    "file_name = \"HUP065_sz_2_ecg_hr_hrv.npy\"\n",
    "file_path = \"/mnt/leif/littlab/users/jalp/git/ecg-ieeg/data/\"+file_name\n",
    "test_df = pd.DataFrame(np.load(file_path))\n",
    "test_df.columns = ['timestamp', 'heartRate', 'rmssd', 'hrMean']"
   ]
  },
  {
   "attachments": {},
   "cell_type": "markdown",
   "metadata": {},
   "source": [
    "### Sample Plot"
   ]
  },
  {
   "cell_type": "code",
   "execution_count": 17,
   "metadata": {},
   "outputs": [
    {
     "data": {
      "image/png": "[encoded data removed]",
      "text/plain": [
       "<Figure size 1500x500 with 3 Axes>"
      ]
     },
     "metadata": {},
     "output_type": "display_data"
    }
   ],
   "source": [
    "plt.rcParams[\"font.size\"]=14\n",
    "fig, ax = plt.subplots(3,1, figsize=(15,5), sharex=True)\n",
    "user_data = test_df.copy()\n",
    "axi = ax[0]\n",
    "axi.plot(user_data['timestamp'],user_data['heartRate'], '-', lw=0.1)\n",
    "axi.set_ylabel(\"HR [bpm]\")\n",
    "axi.set_title(\"File=%s\"%(file_name))\n",
    "\n",
    "data_copy = user_data.copy()\n",
    "data_copy = data_copy.dropna()\n",
    "\n",
    "axi = ax[1]\n",
    "axi.plot(data_copy['timestamp'],data_copy['rmssd'], '-', lw=0.4)\n",
    "axi.set_ylabel(\"RMSSD [ms]\")\n",
    "# axi.set_xlabel(\"IEEG Time [s]\")\n",
    "\n",
    "axi = ax[2]\n",
    "axi.plot(data_copy['timestamp'],data_copy['hrMean'], '-', lw=0.4)\n",
    "axi.set_ylabel(\"HR Mean \\n[bpm]\")\n",
    "axi.set_xlabel(\"IEEG Time [s]\")\n",
    "\n",
    "for axp in ax.flatten():\n",
    "    axp.grid(alpha=0.4)\n",
    "\n",
    "plt.show()"
   ]
  }
 ],
 "metadata": {
  "kernelspec": {
   "display_name": "Python 3.8.8 ('base')",
   "language": "python",
   "name": "python3"
  },
  "language_info": {
   "codemirror_mode": {
    "name": "ipython",
    "version": 3
   },
   "file_extension": ".py",
   "mimetype": "text/x-python",
   "name": "python",
   "nbconvert_exporter": "python",
   "pygments_lexer": "ipython3",
   "version": "3.8.8"
  },
  "orig_nbformat": 4,
  "vscode": {
   "interpreter": {
    "hash": "cd23c50a1ba65526a8477adeacdb65c6f1fd1f54a6550ffbda5e31349f7a6b54"
   }
  }
 },
 "nbformat": 4,
 "nbformat_minor": 2
}
